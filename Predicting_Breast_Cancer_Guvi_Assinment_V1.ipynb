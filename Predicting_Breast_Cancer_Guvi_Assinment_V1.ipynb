{
  "nbformat": 4,
  "nbformat_minor": 0,
  "metadata": {
    "colab": {
      "provenance": [],
      "mount_file_id": "1bw6xPzVDoztrDnaKqe5_-M93OPcYXWUK",
      "authorship_tag": "ABX9TyOG5ZY1gZvoKowq6L+GTJ6S"
    },
    "kernelspec": {
      "name": "python3",
      "display_name": "Python 3"
    },
    "language_info": {
      "name": "python"
    }
  },
  "cells": [
    {
      "cell_type": "code",
      "execution_count": 1,
      "metadata": {
        "id": "w2BK2nkvnOrQ",
        "colab": {
          "base_uri": "https://localhost:8080/"
        },
        "outputId": "5ed04592-aa8f-42ee-e1c1-7660bcdbdbdc"
      },
      "outputs": [
        {
          "output_type": "stream",
          "name": "stdout",
          "text": [
            "Drive already mounted at /content/drive; to attempt to forcibly remount, call drive.mount(\"/content/drive\", force_remount=True).\n"
          ]
        }
      ],
      "source": [
        "from google.colab import drive\n",
        "drive.mount('/content/drive')"
      ]
    },
    {
      "cell_type": "code",
      "source": [
        "import pandas as pd\n",
        "import numpy as np\n",
        "from sklearn.model_selection import train_test_split\n",
        "from sklearn.svm import SVC\n",
        "from sklearn.metrics import classification_report\n",
        "from sklearn.pipeline import make_pipeline\n",
        "from sklearn.preprocessing import StandardScaler\n",
        "from sklearn.svm import SVC\n",
        "from matplotlib import pyplot \n",
        "from sklearn.inspection import permutation_importance\n",
        "import matplotlib.pyplot as plt\n",
        "from sklearn import metrics\n",
        "import seaborn as sns\n",
        "%matplotlib inline"
      ],
      "metadata": {
        "id": "q0vSw-9X6gP4"
      },
      "execution_count": 2,
      "outputs": []
    },
    {
      "cell_type": "code",
      "source": [
        "df = pd.read_csv(\"/content/drive/My Drive/Colab Notebooks/Guvi Tasks/cancer.csv\")\n",
        "df.head(2)"
      ],
      "metadata": {
        "colab": {
          "base_uri": "https://localhost:8080/",
          "height": 223
        },
        "id": "zk45egakrrHs",
        "outputId": "b9e71ee3-07ac-4566-f2c0-66232fa75d70"
      },
      "execution_count": 3,
      "outputs": [
        {
          "output_type": "execute_result",
          "data": {
            "text/plain": [
              "       id diagnosis  radius_mean  texture_mean  perimeter_mean  area_mean  \\\n",
              "0  842302         M        17.99         10.38           122.8     1001.0   \n",
              "1  842517         M        20.57         17.77           132.9     1326.0   \n",
              "\n",
              "   smoothness_mean  compactness_mean  concavity_mean  concave points_mean  \\\n",
              "0          0.11840           0.27760          0.3001              0.14710   \n",
              "1          0.08474           0.07864          0.0869              0.07017   \n",
              "\n",
              "   ...  texture_worst  perimeter_worst  area_worst  smoothness_worst  \\\n",
              "0  ...          17.33            184.6      2019.0            0.1622   \n",
              "1  ...          23.41            158.8      1956.0            0.1238   \n",
              "\n",
              "   compactness_worst  concavity_worst  concave points_worst  symmetry_worst  \\\n",
              "0             0.6656           0.7119                0.2654          0.4601   \n",
              "1             0.1866           0.2416                0.1860          0.2750   \n",
              "\n",
              "   fractal_dimension_worst  Unnamed: 32  \n",
              "0                  0.11890          NaN  \n",
              "1                  0.08902          NaN  \n",
              "\n",
              "[2 rows x 33 columns]"
            ],
            "text/html": [
              "\n",
              "  <div id=\"df-98365245-2368-4e3f-bc60-094cf9a66bda\">\n",
              "    <div class=\"colab-df-container\">\n",
              "      <div>\n",
              "<style scoped>\n",
              "    .dataframe tbody tr th:only-of-type {\n",
              "        vertical-align: middle;\n",
              "    }\n",
              "\n",
              "    .dataframe tbody tr th {\n",
              "        vertical-align: top;\n",
              "    }\n",
              "\n",
              "    .dataframe thead th {\n",
              "        text-align: right;\n",
              "    }\n",
              "</style>\n",
              "<table border=\"1\" class=\"dataframe\">\n",
              "  <thead>\n",
              "    <tr style=\"text-align: right;\">\n",
              "      <th></th>\n",
              "      <th>id</th>\n",
              "      <th>diagnosis</th>\n",
              "      <th>radius_mean</th>\n",
              "      <th>texture_mean</th>\n",
              "      <th>perimeter_mean</th>\n",
              "      <th>area_mean</th>\n",
              "      <th>smoothness_mean</th>\n",
              "      <th>compactness_mean</th>\n",
              "      <th>concavity_mean</th>\n",
              "      <th>concave points_mean</th>\n",
              "      <th>...</th>\n",
              "      <th>texture_worst</th>\n",
              "      <th>perimeter_worst</th>\n",
              "      <th>area_worst</th>\n",
              "      <th>smoothness_worst</th>\n",
              "      <th>compactness_worst</th>\n",
              "      <th>concavity_worst</th>\n",
              "      <th>concave points_worst</th>\n",
              "      <th>symmetry_worst</th>\n",
              "      <th>fractal_dimension_worst</th>\n",
              "      <th>Unnamed: 32</th>\n",
              "    </tr>\n",
              "  </thead>\n",
              "  <tbody>\n",
              "    <tr>\n",
              "      <th>0</th>\n",
              "      <td>842302</td>\n",
              "      <td>M</td>\n",
              "      <td>17.99</td>\n",
              "      <td>10.38</td>\n",
              "      <td>122.8</td>\n",
              "      <td>1001.0</td>\n",
              "      <td>0.11840</td>\n",
              "      <td>0.27760</td>\n",
              "      <td>0.3001</td>\n",
              "      <td>0.14710</td>\n",
              "      <td>...</td>\n",
              "      <td>17.33</td>\n",
              "      <td>184.6</td>\n",
              "      <td>2019.0</td>\n",
              "      <td>0.1622</td>\n",
              "      <td>0.6656</td>\n",
              "      <td>0.7119</td>\n",
              "      <td>0.2654</td>\n",
              "      <td>0.4601</td>\n",
              "      <td>0.11890</td>\n",
              "      <td>NaN</td>\n",
              "    </tr>\n",
              "    <tr>\n",
              "      <th>1</th>\n",
              "      <td>842517</td>\n",
              "      <td>M</td>\n",
              "      <td>20.57</td>\n",
              "      <td>17.77</td>\n",
              "      <td>132.9</td>\n",
              "      <td>1326.0</td>\n",
              "      <td>0.08474</td>\n",
              "      <td>0.07864</td>\n",
              "      <td>0.0869</td>\n",
              "      <td>0.07017</td>\n",
              "      <td>...</td>\n",
              "      <td>23.41</td>\n",
              "      <td>158.8</td>\n",
              "      <td>1956.0</td>\n",
              "      <td>0.1238</td>\n",
              "      <td>0.1866</td>\n",
              "      <td>0.2416</td>\n",
              "      <td>0.1860</td>\n",
              "      <td>0.2750</td>\n",
              "      <td>0.08902</td>\n",
              "      <td>NaN</td>\n",
              "    </tr>\n",
              "  </tbody>\n",
              "</table>\n",
              "<p>2 rows × 33 columns</p>\n",
              "</div>\n",
              "      <button class=\"colab-df-convert\" onclick=\"convertToInteractive('df-98365245-2368-4e3f-bc60-094cf9a66bda')\"\n",
              "              title=\"Convert this dataframe to an interactive table.\"\n",
              "              style=\"display:none;\">\n",
              "        \n",
              "  <svg xmlns=\"http://www.w3.org/2000/svg\" height=\"24px\"viewBox=\"0 0 24 24\"\n",
              "       width=\"24px\">\n",
              "    <path d=\"M0 0h24v24H0V0z\" fill=\"none\"/>\n",
              "    <path d=\"M18.56 5.44l.94 2.06.94-2.06 2.06-.94-2.06-.94-.94-2.06-.94 2.06-2.06.94zm-11 1L8.5 8.5l.94-2.06 2.06-.94-2.06-.94L8.5 2.5l-.94 2.06-2.06.94zm10 10l.94 2.06.94-2.06 2.06-.94-2.06-.94-.94-2.06-.94 2.06-2.06.94z\"/><path d=\"M17.41 7.96l-1.37-1.37c-.4-.4-.92-.59-1.43-.59-.52 0-1.04.2-1.43.59L10.3 9.45l-7.72 7.72c-.78.78-.78 2.05 0 2.83L4 21.41c.39.39.9.59 1.41.59.51 0 1.02-.2 1.41-.59l7.78-7.78 2.81-2.81c.8-.78.8-2.07 0-2.86zM5.41 20L4 18.59l7.72-7.72 1.47 1.35L5.41 20z\"/>\n",
              "  </svg>\n",
              "      </button>\n",
              "      \n",
              "  <style>\n",
              "    .colab-df-container {\n",
              "      display:flex;\n",
              "      flex-wrap:wrap;\n",
              "      gap: 12px;\n",
              "    }\n",
              "\n",
              "    .colab-df-convert {\n",
              "      background-color: #E8F0FE;\n",
              "      border: none;\n",
              "      border-radius: 50%;\n",
              "      cursor: pointer;\n",
              "      display: none;\n",
              "      fill: #1967D2;\n",
              "      height: 32px;\n",
              "      padding: 0 0 0 0;\n",
              "      width: 32px;\n",
              "    }\n",
              "\n",
              "    .colab-df-convert:hover {\n",
              "      background-color: #E2EBFA;\n",
              "      box-shadow: 0px 1px 2px rgba(60, 64, 67, 0.3), 0px 1px 3px 1px rgba(60, 64, 67, 0.15);\n",
              "      fill: #174EA6;\n",
              "    }\n",
              "\n",
              "    [theme=dark] .colab-df-convert {\n",
              "      background-color: #3B4455;\n",
              "      fill: #D2E3FC;\n",
              "    }\n",
              "\n",
              "    [theme=dark] .colab-df-convert:hover {\n",
              "      background-color: #434B5C;\n",
              "      box-shadow: 0px 1px 3px 1px rgba(0, 0, 0, 0.15);\n",
              "      filter: drop-shadow(0px 1px 2px rgba(0, 0, 0, 0.3));\n",
              "      fill: #FFFFFF;\n",
              "    }\n",
              "  </style>\n",
              "\n",
              "      <script>\n",
              "        const buttonEl =\n",
              "          document.querySelector('#df-98365245-2368-4e3f-bc60-094cf9a66bda button.colab-df-convert');\n",
              "        buttonEl.style.display =\n",
              "          google.colab.kernel.accessAllowed ? 'block' : 'none';\n",
              "\n",
              "        async function convertToInteractive(key) {\n",
              "          const element = document.querySelector('#df-98365245-2368-4e3f-bc60-094cf9a66bda');\n",
              "          const dataTable =\n",
              "            await google.colab.kernel.invokeFunction('convertToInteractive',\n",
              "                                                     [key], {});\n",
              "          if (!dataTable) return;\n",
              "\n",
              "          const docLinkHtml = 'Like what you see? Visit the ' +\n",
              "            '<a target=\"_blank\" href=https://colab.research.google.com/notebooks/data_table.ipynb>data table notebook</a>'\n",
              "            + ' to learn more about interactive tables.';\n",
              "          element.innerHTML = '';\n",
              "          dataTable['output_type'] = 'display_data';\n",
              "          await google.colab.output.renderOutput(dataTable, element);\n",
              "          const docLink = document.createElement('div');\n",
              "          docLink.innerHTML = docLinkHtml;\n",
              "          element.appendChild(docLink);\n",
              "        }\n",
              "      </script>\n",
              "    </div>\n",
              "  </div>\n",
              "  "
            ]
          },
          "metadata": {},
          "execution_count": 3
        }
      ]
    },
    {
      "cell_type": "code",
      "source": [
        "df.columns"
      ],
      "metadata": {
        "colab": {
          "base_uri": "https://localhost:8080/"
        },
        "id": "SXY2vlUZtn8c",
        "outputId": "7e6ae3ea-7911-4894-e300-8f99b56642ea"
      },
      "execution_count": null,
      "outputs": [
        {
          "output_type": "execute_result",
          "data": {
            "text/plain": [
              "Index(['id', 'diagnosis', 'radius_mean', 'texture_mean', 'perimeter_mean',\n",
              "       'area_mean', 'smoothness_mean', 'compactness_mean', 'concavity_mean',\n",
              "       'concave points_mean', 'symmetry_mean', 'fractal_dimension_mean',\n",
              "       'radius_se', 'texture_se', 'perimeter_se', 'area_se', 'smoothness_se',\n",
              "       'compactness_se', 'concavity_se', 'concave points_se', 'symmetry_se',\n",
              "       'fractal_dimension_se', 'radius_worst', 'texture_worst',\n",
              "       'perimeter_worst', 'area_worst', 'smoothness_worst',\n",
              "       'compactness_worst', 'concavity_worst', 'concave points_worst',\n",
              "       'symmetry_worst', 'fractal_dimension_worst', 'Unnamed: 32'],\n",
              "      dtype='object')"
            ]
          },
          "metadata": {},
          "execution_count": 39
        }
      ]
    },
    {
      "cell_type": "code",
      "source": [
        "df.dtypes"
      ],
      "metadata": {
        "colab": {
          "base_uri": "https://localhost:8080/"
        },
        "id": "A3ofxvGyLzTR",
        "outputId": "4efd9bcd-51a4-4072-8a32-c9fbb7336d2f"
      },
      "execution_count": null,
      "outputs": [
        {
          "output_type": "execute_result",
          "data": {
            "text/plain": [
              "id                           int64\n",
              "diagnosis                   object\n",
              "radius_mean                float64\n",
              "texture_mean               float64\n",
              "perimeter_mean             float64\n",
              "area_mean                  float64\n",
              "smoothness_mean            float64\n",
              "compactness_mean           float64\n",
              "concavity_mean             float64\n",
              "concave points_mean        float64\n",
              "symmetry_mean              float64\n",
              "fractal_dimension_mean     float64\n",
              "radius_se                  float64\n",
              "texture_se                 float64\n",
              "perimeter_se               float64\n",
              "area_se                    float64\n",
              "smoothness_se              float64\n",
              "compactness_se             float64\n",
              "concavity_se               float64\n",
              "concave points_se          float64\n",
              "symmetry_se                float64\n",
              "fractal_dimension_se       float64\n",
              "radius_worst               float64\n",
              "texture_worst              float64\n",
              "perimeter_worst            float64\n",
              "area_worst                 float64\n",
              "smoothness_worst           float64\n",
              "compactness_worst          float64\n",
              "concavity_worst            float64\n",
              "concave points_worst       float64\n",
              "symmetry_worst             float64\n",
              "fractal_dimension_worst    float64\n",
              "Unnamed: 32                float64\n",
              "dtype: object"
            ]
          },
          "metadata": {},
          "execution_count": 40
        }
      ]
    },
    {
      "cell_type": "code",
      "source": [
        "df.shape"
      ],
      "metadata": {
        "colab": {
          "base_uri": "https://localhost:8080/"
        },
        "id": "h1G8OlFz1S9n",
        "outputId": "636c8bef-ecab-4f48-fe83-26d34f8549c6"
      },
      "execution_count": null,
      "outputs": [
        {
          "output_type": "execute_result",
          "data": {
            "text/plain": [
              "(569, 33)"
            ]
          },
          "metadata": {},
          "execution_count": 41
        }
      ]
    },
    {
      "cell_type": "code",
      "source": [
        "df = df.drop_duplicates()"
      ],
      "metadata": {
        "id": "Pduj0zGnmFdV"
      },
      "execution_count": null,
      "outputs": []
    },
    {
      "cell_type": "code",
      "source": [
        "df.shape  # NO Duplicates found"
      ],
      "metadata": {
        "colab": {
          "base_uri": "https://localhost:8080/"
        },
        "id": "Z_LZ4CMEmLMM",
        "outputId": "854a65a3-f4f8-4b09-e82a-12b86d16fd10"
      },
      "execution_count": null,
      "outputs": [
        {
          "output_type": "execute_result",
          "data": {
            "text/plain": [
              "(569, 33)"
            ]
          },
          "metadata": {},
          "execution_count": 43
        }
      ]
    },
    {
      "cell_type": "code",
      "source": [
        "df.isnull().sum()"
      ],
      "metadata": {
        "colab": {
          "base_uri": "https://localhost:8080/"
        },
        "id": "Ucjudv9Tuktl",
        "outputId": "c7170cb5-705d-41a8-cc46-72d9b7b3afa4"
      },
      "execution_count": null,
      "outputs": [
        {
          "output_type": "execute_result",
          "data": {
            "text/plain": [
              "id                           0\n",
              "diagnosis                    0\n",
              "radius_mean                  0\n",
              "texture_mean                 0\n",
              "perimeter_mean               0\n",
              "area_mean                    0\n",
              "smoothness_mean              0\n",
              "compactness_mean             0\n",
              "concavity_mean               0\n",
              "concave points_mean          0\n",
              "symmetry_mean                0\n",
              "fractal_dimension_mean       0\n",
              "radius_se                    0\n",
              "texture_se                   0\n",
              "perimeter_se                 0\n",
              "area_se                      0\n",
              "smoothness_se                0\n",
              "compactness_se               0\n",
              "concavity_se                 0\n",
              "concave points_se            0\n",
              "symmetry_se                  0\n",
              "fractal_dimension_se         0\n",
              "radius_worst                 0\n",
              "texture_worst                0\n",
              "perimeter_worst              0\n",
              "area_worst                   0\n",
              "smoothness_worst             0\n",
              "compactness_worst            0\n",
              "concavity_worst              0\n",
              "concave points_worst         0\n",
              "symmetry_worst               0\n",
              "fractal_dimension_worst      0\n",
              "Unnamed: 32                569\n",
              "dtype: int64"
            ]
          },
          "metadata": {},
          "execution_count": 44
        }
      ]
    },
    {
      "cell_type": "code",
      "source": [
        "df[\"Unnamed: 32\"]"
      ],
      "metadata": {
        "colab": {
          "base_uri": "https://localhost:8080/"
        },
        "id": "-o-lpQAz1kN8",
        "outputId": "d9928c7f-68d7-4782-be5c-ac558dd47c1a"
      },
      "execution_count": null,
      "outputs": [
        {
          "output_type": "execute_result",
          "data": {
            "text/plain": [
              "0     NaN\n",
              "1     NaN\n",
              "2     NaN\n",
              "3     NaN\n",
              "4     NaN\n",
              "       ..\n",
              "564   NaN\n",
              "565   NaN\n",
              "566   NaN\n",
              "567   NaN\n",
              "568   NaN\n",
              "Name: Unnamed: 32, Length: 569, dtype: float64"
            ]
          },
          "metadata": {},
          "execution_count": 45
        }
      ]
    },
    {
      "cell_type": "code",
      "source": [
        "df['diagnosis'].value_counts() # beacause B:M rtio is 50% so, I am not using scaler "
      ],
      "metadata": {
        "colab": {
          "base_uri": "https://localhost:8080/"
        },
        "id": "2x0ZC0OKxEOT",
        "outputId": "2090b2b0-4c63-4bc3-a049-035907900a26"
      },
      "execution_count": null,
      "outputs": [
        {
          "output_type": "execute_result",
          "data": {
            "text/plain": [
              "B    357\n",
              "M    212\n",
              "Name: diagnosis, dtype: int64"
            ]
          },
          "metadata": {},
          "execution_count": 46
        }
      ]
    },
    {
      "cell_type": "code",
      "source": [
        "df[\"diagnosis\"] = df[\"diagnosis\"].map({\"M\" : 1, \"B\" : 0})\n",
        "df.head(3)"
      ],
      "metadata": {
        "colab": {
          "base_uri": "https://localhost:8080/",
          "height": 254
        },
        "id": "okrE9tQFwt52",
        "outputId": "6237ef3d-eb73-4f35-9db4-1a1e79773b0a"
      },
      "execution_count": null,
      "outputs": [
        {
          "output_type": "execute_result",
          "data": {
            "text/plain": [
              "         id  diagnosis  radius_mean  texture_mean  perimeter_mean  area_mean  \\\n",
              "0    842302          1        17.99         10.38           122.8     1001.0   \n",
              "1    842517          1        20.57         17.77           132.9     1326.0   \n",
              "2  84300903          1        19.69         21.25           130.0     1203.0   \n",
              "\n",
              "   smoothness_mean  compactness_mean  concavity_mean  concave points_mean  \\\n",
              "0          0.11840           0.27760          0.3001              0.14710   \n",
              "1          0.08474           0.07864          0.0869              0.07017   \n",
              "2          0.10960           0.15990          0.1974              0.12790   \n",
              "\n",
              "   ...  texture_worst  perimeter_worst  area_worst  smoothness_worst  \\\n",
              "0  ...          17.33            184.6      2019.0            0.1622   \n",
              "1  ...          23.41            158.8      1956.0            0.1238   \n",
              "2  ...          25.53            152.5      1709.0            0.1444   \n",
              "\n",
              "   compactness_worst  concavity_worst  concave points_worst  symmetry_worst  \\\n",
              "0             0.6656           0.7119                0.2654          0.4601   \n",
              "1             0.1866           0.2416                0.1860          0.2750   \n",
              "2             0.4245           0.4504                0.2430          0.3613   \n",
              "\n",
              "   fractal_dimension_worst  Unnamed: 32  \n",
              "0                  0.11890          NaN  \n",
              "1                  0.08902          NaN  \n",
              "2                  0.08758          NaN  \n",
              "\n",
              "[3 rows x 33 columns]"
            ],
            "text/html": [
              "\n",
              "  <div id=\"df-86343e05-0068-40b5-bd9d-c4a8c82adf85\">\n",
              "    <div class=\"colab-df-container\">\n",
              "      <div>\n",
              "<style scoped>\n",
              "    .dataframe tbody tr th:only-of-type {\n",
              "        vertical-align: middle;\n",
              "    }\n",
              "\n",
              "    .dataframe tbody tr th {\n",
              "        vertical-align: top;\n",
              "    }\n",
              "\n",
              "    .dataframe thead th {\n",
              "        text-align: right;\n",
              "    }\n",
              "</style>\n",
              "<table border=\"1\" class=\"dataframe\">\n",
              "  <thead>\n",
              "    <tr style=\"text-align: right;\">\n",
              "      <th></th>\n",
              "      <th>id</th>\n",
              "      <th>diagnosis</th>\n",
              "      <th>radius_mean</th>\n",
              "      <th>texture_mean</th>\n",
              "      <th>perimeter_mean</th>\n",
              "      <th>area_mean</th>\n",
              "      <th>smoothness_mean</th>\n",
              "      <th>compactness_mean</th>\n",
              "      <th>concavity_mean</th>\n",
              "      <th>concave points_mean</th>\n",
              "      <th>...</th>\n",
              "      <th>texture_worst</th>\n",
              "      <th>perimeter_worst</th>\n",
              "      <th>area_worst</th>\n",
              "      <th>smoothness_worst</th>\n",
              "      <th>compactness_worst</th>\n",
              "      <th>concavity_worst</th>\n",
              "      <th>concave points_worst</th>\n",
              "      <th>symmetry_worst</th>\n",
              "      <th>fractal_dimension_worst</th>\n",
              "      <th>Unnamed: 32</th>\n",
              "    </tr>\n",
              "  </thead>\n",
              "  <tbody>\n",
              "    <tr>\n",
              "      <th>0</th>\n",
              "      <td>842302</td>\n",
              "      <td>1</td>\n",
              "      <td>17.99</td>\n",
              "      <td>10.38</td>\n",
              "      <td>122.8</td>\n",
              "      <td>1001.0</td>\n",
              "      <td>0.11840</td>\n",
              "      <td>0.27760</td>\n",
              "      <td>0.3001</td>\n",
              "      <td>0.14710</td>\n",
              "      <td>...</td>\n",
              "      <td>17.33</td>\n",
              "      <td>184.6</td>\n",
              "      <td>2019.0</td>\n",
              "      <td>0.1622</td>\n",
              "      <td>0.6656</td>\n",
              "      <td>0.7119</td>\n",
              "      <td>0.2654</td>\n",
              "      <td>0.4601</td>\n",
              "      <td>0.11890</td>\n",
              "      <td>NaN</td>\n",
              "    </tr>\n",
              "    <tr>\n",
              "      <th>1</th>\n",
              "      <td>842517</td>\n",
              "      <td>1</td>\n",
              "      <td>20.57</td>\n",
              "      <td>17.77</td>\n",
              "      <td>132.9</td>\n",
              "      <td>1326.0</td>\n",
              "      <td>0.08474</td>\n",
              "      <td>0.07864</td>\n",
              "      <td>0.0869</td>\n",
              "      <td>0.07017</td>\n",
              "      <td>...</td>\n",
              "      <td>23.41</td>\n",
              "      <td>158.8</td>\n",
              "      <td>1956.0</td>\n",
              "      <td>0.1238</td>\n",
              "      <td>0.1866</td>\n",
              "      <td>0.2416</td>\n",
              "      <td>0.1860</td>\n",
              "      <td>0.2750</td>\n",
              "      <td>0.08902</td>\n",
              "      <td>NaN</td>\n",
              "    </tr>\n",
              "    <tr>\n",
              "      <th>2</th>\n",
              "      <td>84300903</td>\n",
              "      <td>1</td>\n",
              "      <td>19.69</td>\n",
              "      <td>21.25</td>\n",
              "      <td>130.0</td>\n",
              "      <td>1203.0</td>\n",
              "      <td>0.10960</td>\n",
              "      <td>0.15990</td>\n",
              "      <td>0.1974</td>\n",
              "      <td>0.12790</td>\n",
              "      <td>...</td>\n",
              "      <td>25.53</td>\n",
              "      <td>152.5</td>\n",
              "      <td>1709.0</td>\n",
              "      <td>0.1444</td>\n",
              "      <td>0.4245</td>\n",
              "      <td>0.4504</td>\n",
              "      <td>0.2430</td>\n",
              "      <td>0.3613</td>\n",
              "      <td>0.08758</td>\n",
              "      <td>NaN</td>\n",
              "    </tr>\n",
              "  </tbody>\n",
              "</table>\n",
              "<p>3 rows × 33 columns</p>\n",
              "</div>\n",
              "      <button class=\"colab-df-convert\" onclick=\"convertToInteractive('df-86343e05-0068-40b5-bd9d-c4a8c82adf85')\"\n",
              "              title=\"Convert this dataframe to an interactive table.\"\n",
              "              style=\"display:none;\">\n",
              "        \n",
              "  <svg xmlns=\"http://www.w3.org/2000/svg\" height=\"24px\"viewBox=\"0 0 24 24\"\n",
              "       width=\"24px\">\n",
              "    <path d=\"M0 0h24v24H0V0z\" fill=\"none\"/>\n",
              "    <path d=\"M18.56 5.44l.94 2.06.94-2.06 2.06-.94-2.06-.94-.94-2.06-.94 2.06-2.06.94zm-11 1L8.5 8.5l.94-2.06 2.06-.94-2.06-.94L8.5 2.5l-.94 2.06-2.06.94zm10 10l.94 2.06.94-2.06 2.06-.94-2.06-.94-.94-2.06-.94 2.06-2.06.94z\"/><path d=\"M17.41 7.96l-1.37-1.37c-.4-.4-.92-.59-1.43-.59-.52 0-1.04.2-1.43.59L10.3 9.45l-7.72 7.72c-.78.78-.78 2.05 0 2.83L4 21.41c.39.39.9.59 1.41.59.51 0 1.02-.2 1.41-.59l7.78-7.78 2.81-2.81c.8-.78.8-2.07 0-2.86zM5.41 20L4 18.59l7.72-7.72 1.47 1.35L5.41 20z\"/>\n",
              "  </svg>\n",
              "      </button>\n",
              "      \n",
              "  <style>\n",
              "    .colab-df-container {\n",
              "      display:flex;\n",
              "      flex-wrap:wrap;\n",
              "      gap: 12px;\n",
              "    }\n",
              "\n",
              "    .colab-df-convert {\n",
              "      background-color: #E8F0FE;\n",
              "      border: none;\n",
              "      border-radius: 50%;\n",
              "      cursor: pointer;\n",
              "      display: none;\n",
              "      fill: #1967D2;\n",
              "      height: 32px;\n",
              "      padding: 0 0 0 0;\n",
              "      width: 32px;\n",
              "    }\n",
              "\n",
              "    .colab-df-convert:hover {\n",
              "      background-color: #E2EBFA;\n",
              "      box-shadow: 0px 1px 2px rgba(60, 64, 67, 0.3), 0px 1px 3px 1px rgba(60, 64, 67, 0.15);\n",
              "      fill: #174EA6;\n",
              "    }\n",
              "\n",
              "    [theme=dark] .colab-df-convert {\n",
              "      background-color: #3B4455;\n",
              "      fill: #D2E3FC;\n",
              "    }\n",
              "\n",
              "    [theme=dark] .colab-df-convert:hover {\n",
              "      background-color: #434B5C;\n",
              "      box-shadow: 0px 1px 3px 1px rgba(0, 0, 0, 0.15);\n",
              "      filter: drop-shadow(0px 1px 2px rgba(0, 0, 0, 0.3));\n",
              "      fill: #FFFFFF;\n",
              "    }\n",
              "  </style>\n",
              "\n",
              "      <script>\n",
              "        const buttonEl =\n",
              "          document.querySelector('#df-86343e05-0068-40b5-bd9d-c4a8c82adf85 button.colab-df-convert');\n",
              "        buttonEl.style.display =\n",
              "          google.colab.kernel.accessAllowed ? 'block' : 'none';\n",
              "\n",
              "        async function convertToInteractive(key) {\n",
              "          const element = document.querySelector('#df-86343e05-0068-40b5-bd9d-c4a8c82adf85');\n",
              "          const dataTable =\n",
              "            await google.colab.kernel.invokeFunction('convertToInteractive',\n",
              "                                                     [key], {});\n",
              "          if (!dataTable) return;\n",
              "\n",
              "          const docLinkHtml = 'Like what you see? Visit the ' +\n",
              "            '<a target=\"_blank\" href=https://colab.research.google.com/notebooks/data_table.ipynb>data table notebook</a>'\n",
              "            + ' to learn more about interactive tables.';\n",
              "          element.innerHTML = '';\n",
              "          dataTable['output_type'] = 'display_data';\n",
              "          await google.colab.output.renderOutput(dataTable, element);\n",
              "          const docLink = document.createElement('div');\n",
              "          docLink.innerHTML = docLinkHtml;\n",
              "          element.appendChild(docLink);\n",
              "        }\n",
              "      </script>\n",
              "    </div>\n",
              "  </div>\n",
              "  "
            ]
          },
          "metadata": {},
          "execution_count": 47
        }
      ]
    },
    {
      "cell_type": "code",
      "source": [
        "df.dtypes  # Check to see if there are any objects"
      ],
      "metadata": {
        "colab": {
          "base_uri": "https://localhost:8080/"
        },
        "id": "TD7IjGtJmXu9",
        "outputId": "ecbfab8d-0050-4fcd-829b-1a496ad248f9"
      },
      "execution_count": null,
      "outputs": [
        {
          "output_type": "execute_result",
          "data": {
            "text/plain": [
              "id                           int64\n",
              "diagnosis                    int64\n",
              "radius_mean                float64\n",
              "texture_mean               float64\n",
              "perimeter_mean             float64\n",
              "area_mean                  float64\n",
              "smoothness_mean            float64\n",
              "compactness_mean           float64\n",
              "concavity_mean             float64\n",
              "concave points_mean        float64\n",
              "symmetry_mean              float64\n",
              "fractal_dimension_mean     float64\n",
              "radius_se                  float64\n",
              "texture_se                 float64\n",
              "perimeter_se               float64\n",
              "area_se                    float64\n",
              "smoothness_se              float64\n",
              "compactness_se             float64\n",
              "concavity_se               float64\n",
              "concave points_se          float64\n",
              "symmetry_se                float64\n",
              "fractal_dimension_se       float64\n",
              "radius_worst               float64\n",
              "texture_worst              float64\n",
              "perimeter_worst            float64\n",
              "area_worst                 float64\n",
              "smoothness_worst           float64\n",
              "compactness_worst          float64\n",
              "concavity_worst            float64\n",
              "concave points_worst       float64\n",
              "symmetry_worst             float64\n",
              "fractal_dimension_worst    float64\n",
              "Unnamed: 32                float64\n",
              "dtype: object"
            ]
          },
          "metadata": {},
          "execution_count": 48
        }
      ]
    },
    {
      "cell_type": "code",
      "source": [
        "df.drop([\"Unnamed: 32\",\"id\"], axis =1,inplace=True)\n",
        "df1=df"
      ],
      "metadata": {
        "id": "f7M2cuek1rry"
      },
      "execution_count": null,
      "outputs": []
    },
    {
      "cell_type": "code",
      "source": [
        "df.isnull().sum()"
      ],
      "metadata": {
        "colab": {
          "base_uri": "https://localhost:8080/"
        },
        "id": "Yvi_gZpZ2BM-",
        "outputId": "98da3d56-a9e6-4dc0-8aab-40632a39d7e1"
      },
      "execution_count": null,
      "outputs": [
        {
          "output_type": "execute_result",
          "data": {
            "text/plain": [
              "diagnosis                  0\n",
              "radius_mean                0\n",
              "texture_mean               0\n",
              "perimeter_mean             0\n",
              "area_mean                  0\n",
              "smoothness_mean            0\n",
              "compactness_mean           0\n",
              "concavity_mean             0\n",
              "concave points_mean        0\n",
              "symmetry_mean              0\n",
              "fractal_dimension_mean     0\n",
              "radius_se                  0\n",
              "texture_se                 0\n",
              "perimeter_se               0\n",
              "area_se                    0\n",
              "smoothness_se              0\n",
              "compactness_se             0\n",
              "concavity_se               0\n",
              "concave points_se          0\n",
              "symmetry_se                0\n",
              "fractal_dimension_se       0\n",
              "radius_worst               0\n",
              "texture_worst              0\n",
              "perimeter_worst            0\n",
              "area_worst                 0\n",
              "smoothness_worst           0\n",
              "compactness_worst          0\n",
              "concavity_worst            0\n",
              "concave points_worst       0\n",
              "symmetry_worst             0\n",
              "fractal_dimension_worst    0\n",
              "dtype: int64"
            ]
          },
          "metadata": {},
          "execution_count": 50
        }
      ]
    },
    {
      "cell_type": "code",
      "source": [
        "df.info()"
      ],
      "metadata": {
        "colab": {
          "base_uri": "https://localhost:8080/"
        },
        "id": "y0axXSMUwUPo",
        "outputId": "d4eaf91b-475a-4adb-adad-4f0ea23ea42f"
      },
      "execution_count": null,
      "outputs": [
        {
          "output_type": "stream",
          "name": "stdout",
          "text": [
            "<class 'pandas.core.frame.DataFrame'>\n",
            "Int64Index: 569 entries, 0 to 568\n",
            "Data columns (total 31 columns):\n",
            " #   Column                   Non-Null Count  Dtype  \n",
            "---  ------                   --------------  -----  \n",
            " 0   diagnosis                569 non-null    int64  \n",
            " 1   radius_mean              569 non-null    float64\n",
            " 2   texture_mean             569 non-null    float64\n",
            " 3   perimeter_mean           569 non-null    float64\n",
            " 4   area_mean                569 non-null    float64\n",
            " 5   smoothness_mean          569 non-null    float64\n",
            " 6   compactness_mean         569 non-null    float64\n",
            " 7   concavity_mean           569 non-null    float64\n",
            " 8   concave points_mean      569 non-null    float64\n",
            " 9   symmetry_mean            569 non-null    float64\n",
            " 10  fractal_dimension_mean   569 non-null    float64\n",
            " 11  radius_se                569 non-null    float64\n",
            " 12  texture_se               569 non-null    float64\n",
            " 13  perimeter_se             569 non-null    float64\n",
            " 14  area_se                  569 non-null    float64\n",
            " 15  smoothness_se            569 non-null    float64\n",
            " 16  compactness_se           569 non-null    float64\n",
            " 17  concavity_se             569 non-null    float64\n",
            " 18  concave points_se        569 non-null    float64\n",
            " 19  symmetry_se              569 non-null    float64\n",
            " 20  fractal_dimension_se     569 non-null    float64\n",
            " 21  radius_worst             569 non-null    float64\n",
            " 22  texture_worst            569 non-null    float64\n",
            " 23  perimeter_worst          569 non-null    float64\n",
            " 24  area_worst               569 non-null    float64\n",
            " 25  smoothness_worst         569 non-null    float64\n",
            " 26  compactness_worst        569 non-null    float64\n",
            " 27  concavity_worst          569 non-null    float64\n",
            " 28  concave points_worst     569 non-null    float64\n",
            " 29  symmetry_worst           569 non-null    float64\n",
            " 30  fractal_dimension_worst  569 non-null    float64\n",
            "dtypes: float64(30), int64(1)\n",
            "memory usage: 142.2 KB\n"
          ]
        }
      ]
    },
    {
      "cell_type": "code",
      "source": [
        "sns.pairplot(df, x_vars=df.drop(['diagnosis'], axis=1, inplace=False).columns, y_vars= ['diagnosis'],height=2.5 )\n"
      ],
      "metadata": {
        "colab": {
          "base_uri": "https://localhost:8080/",
          "height": 70
        },
        "id": "8SBQg1yHQey7",
        "outputId": "17bda63f-d1cd-4659-8b54-bc414c2a558e"
      },
      "execution_count": null,
      "outputs": [
        {
          "output_type": "execute_result",
          "data": {
            "text/plain": [
              "<seaborn.axisgrid.PairGrid at 0x7fe1b20a5af0>"
            ]
          },
          "metadata": {},
          "execution_count": 52
        },
        {
          "output_type": "display_data",
          "data": {
            "text/plain": [
              "<Figure size 5400x180 with 30 Axes>"
            ],
            "image/png": "[encoded data removed]"
          },
          "metadata": {
            "needs_background": "light"
          }
        }
      ]
    },
    {
      "cell_type": "code",
      "source": [
        "def histplot(df, listvar):\n",
        " fig, axes = plt.subplots(nrows=1, ncols=len(listvar), figsize=(40, 3))\n",
        " counter=0\n",
        " for ax in axes:\n",
        "  df.hist(column=listvar[counter], bins=20, ax=axes[counter])\n",
        "  plt.ylabel('Price')\n",
        "  plt.xlabel(listvar[counter])\n",
        "  counter = counter+1\n",
        " plt.show()\n",
        "linear_vars = df.select_dtypes(include=[np.number]).columns\n",
        "#display(list(linear_vars))\n",
        "histplot(df,linear_vars)"
      ],
      "metadata": {
        "colab": {
          "base_uri": "https://localhost:8080/",
          "height": 117
        },
        "id": "c2LRCh66UX0q",
        "outputId": "09986306-fa4c-4345-adcf-55e9915f16e5"
      },
      "execution_count": null,
      "outputs": [
        {
          "output_type": "display_data",
          "data": {
            "text/plain": [
              "<Figure size 2880x216 with 31 Axes>"
            ],
            "image/png": "[encoded data removed]"
          },
          "metadata": {
            "needs_background": "light"
          }
        }
      ]
    },
    {
      "cell_type": "code",
      "source": [
        "print('0 values →', 0 in df.values)"
      ],
      "metadata": {
        "colab": {
          "base_uri": "https://localhost:8080/"
        },
        "id": "Qq4yJipwU_LW",
        "outputId": "0f0fe8e9-900f-4314-fbf3-b66dc5ef3b15"
      },
      "execution_count": null,
      "outputs": [
        {
          "output_type": "stream",
          "name": "stdout",
          "text": [
            "0 values → True\n"
          ]
        }
      ]
    },
    {
      "cell_type": "code",
      "source": [
        "#check for ouliers\n",
        "def sorteddf(df, listvar):\n",
        "    for var in listvar:\n",
        "        display('sorted by ' + var + ' --> ' + str(list(df[listvar].sort_values(by=var,ascending=False)[var].head())))\n",
        "sorteddf(df, linear_vars)"
      ],
      "metadata": {
        "colab": {
          "base_uri": "https://localhost:8080/",
          "height": 597
        },
        "id": "1ky0tbBZVGTe",
        "outputId": "6a3584b9-936e-4229-81ec-39dd1a59196e"
      },
      "execution_count": null,
      "outputs": [
        {
          "output_type": "display_data",
          "data": {
            "text/plain": [
              "'sorted by diagnosis --> [1, 1, 1, 1, 1]'"
            ],
            "application/vnd.google.colaboratory.intrinsic+json": {
              "type": "string"
            }
          },
          "metadata": {}
        },
        {
          "output_type": "display_data",
          "data": {
            "text/plain": [
              "'sorted by radius_mean --> [28.11, 27.42, 27.22, 25.73, 25.22]'"
            ],
            "application/vnd.google.colaboratory.intrinsic+json": {
              "type": "string"
            }
          },
          "metadata": {}
        },
        {
          "output_type": "display_data",
          "data": {
            "text/plain": [
              "'sorted by texture_mean --> [39.28, 33.81, 33.56, 32.47, 31.12]'"
            ],
            "application/vnd.google.colaboratory.intrinsic+json": {
              "type": "string"
            }
          },
          "metadata": {}
        },
        {
          "output_type": "display_data",
          "data": {
            "text/plain": [
              "'sorted by perimeter_mean --> [188.5, 186.9, 182.1, 174.2, 171.5]'"
            ],
            "application/vnd.google.colaboratory.intrinsic+json": {
              "type": "string"
            }
          },
          "metadata": {}
        },
        {
          "output_type": "display_data",
          "data": {
            "text/plain": [
              "'sorted by area_mean --> [2501.0, 2499.0, 2250.0, 2010.0, 1878.0]'"
            ],
            "application/vnd.google.colaboratory.intrinsic+json": {
              "type": "string"
            }
          },
          "metadata": {}
        },
        {
          "output_type": "display_data",
          "data": {
            "text/plain": [
              "'sorted by smoothness_mean --> [0.1634, 0.1447, 0.1425, 0.1398, 0.1371]'"
            ],
            "application/vnd.google.colaboratory.intrinsic+json": {
              "type": "string"
            }
          },
          "metadata": {}
        },
        {
          "output_type": "display_data",
          "data": {
            "text/plain": [
              "'sorted by compactness_mean --> [0.3454, 0.3114, 0.2867, 0.2839, 0.2832]'"
            ],
            "application/vnd.google.colaboratory.intrinsic+json": {
              "type": "string"
            }
          },
          "metadata": {}
        },
        {
          "output_type": "display_data",
          "data": {
            "text/plain": [
              "'sorted by concavity_mean --> [0.4268, 0.4264, 0.4108, 0.3754, 0.3635]'"
            ],
            "application/vnd.google.colaboratory.intrinsic+json": {
              "type": "string"
            }
          },
          "metadata": {}
        },
        {
          "output_type": "display_data",
          "data": {
            "text/plain": [
              "'sorted by concave points_mean --> [0.2012, 0.1913, 0.1878, 0.1845, 0.1823]'"
            ],
            "application/vnd.google.colaboratory.intrinsic+json": {
              "type": "string"
            }
          },
          "metadata": {}
        },
        {
          "output_type": "display_data",
          "data": {
            "text/plain": [
              "'sorted by symmetry_mean --> [0.304, 0.2906, 0.2743, 0.2678, 0.2655]'"
            ],
            "application/vnd.google.colaboratory.intrinsic+json": {
              "type": "string"
            }
          },
          "metadata": {}
        },
        {
          "output_type": "display_data",
          "data": {
            "text/plain": [
              "'sorted by fractal_dimension_mean --> [0.09744, 0.09575, 0.09502, 0.09296, 0.0898]'"
            ],
            "application/vnd.google.colaboratory.intrinsic+json": {
              "type": "string"
            }
          },
          "metadata": {}
        },
        {
          "output_type": "display_data",
          "data": {
            "text/plain": [
              "'sorted by radius_se --> [2.873, 2.547, 1.509, 1.37, 1.296]'"
            ],
            "application/vnd.google.colaboratory.intrinsic+json": {
              "type": "string"
            }
          },
          "metadata": {}
        },
        {
          "output_type": "display_data",
          "data": {
            "text/plain": [
              "'sorted by texture_se --> [4.885, 3.896, 3.647, 3.568, 3.12]'"
            ],
            "application/vnd.google.colaboratory.intrinsic+json": {
              "type": "string"
            }
          },
          "metadata": {}
        },
        {
          "output_type": "display_data",
          "data": {
            "text/plain": [
              "'sorted by perimeter_se --> [21.98, 18.65, 11.07, 10.12, 10.05]'"
            ],
            "application/vnd.google.colaboratory.intrinsic+json": {
              "type": "string"
            }
          },
          "metadata": {}
        },
        {
          "output_type": "display_data",
          "data": {
            "text/plain": [
              "'sorted by area_se --> [542.2, 525.6, 233.0, 224.1, 199.7]'"
            ],
            "application/vnd.google.colaboratory.intrinsic+json": {
              "type": "string"
            }
          },
          "metadata": {}
        },
        {
          "output_type": "display_data",
          "data": {
            "text/plain": [
              "'sorted by smoothness_se --> [0.03113, 0.02333, 0.02177, 0.02075, 0.01835]'"
            ],
            "application/vnd.google.colaboratory.intrinsic+json": {
              "type": "string"
            }
          },
          "metadata": {}
        },
        {
          "output_type": "display_data",
          "data": {
            "text/plain": [
              "'sorted by compactness_se --> [0.1354, 0.1064, 0.1006, 0.09806, 0.09586]'"
            ],
            "application/vnd.google.colaboratory.intrinsic+json": {
              "type": "string"
            }
          },
          "metadata": {}
        },
        {
          "output_type": "display_data",
          "data": {
            "text/plain": [
              "'sorted by concavity_se --> [0.396, 0.3038, 0.1535, 0.1438, 0.1435]'"
            ],
            "application/vnd.google.colaboratory.intrinsic+json": {
              "type": "string"
            }
          },
          "metadata": {}
        },
        {
          "output_type": "display_data",
          "data": {
            "text/plain": [
              "'sorted by concave points_se --> [0.05279, 0.0409, 0.03927, 0.03487, 0.03441]'"
            ],
            "application/vnd.google.colaboratory.intrinsic+json": {
              "type": "string"
            }
          },
          "metadata": {}
        },
        {
          "output_type": "display_data",
          "data": {
            "text/plain": [
              "'sorted by symmetry_se --> [0.07895, 0.06146, 0.05963, 0.05628, 0.05543]'"
            ],
            "application/vnd.google.colaboratory.intrinsic+json": {
              "type": "string"
            }
          },
          "metadata": {}
        },
        {
          "output_type": "display_data",
          "data": {
            "text/plain": [
              "'sorted by fractal_dimension_se --> [0.02984, 0.02286, 0.02193, 0.01792, 0.01298]'"
            ],
            "application/vnd.google.colaboratory.intrinsic+json": {
              "type": "string"
            }
          },
          "metadata": {}
        },
        {
          "output_type": "display_data",
          "data": {
            "text/plain": [
              "'sorted by radius_worst --> [36.04, 33.13, 33.12, 32.49, 31.01]'"
            ],
            "application/vnd.google.colaboratory.intrinsic+json": {
              "type": "string"
            }
          },
          "metadata": {}
        },
        {
          "output_type": "display_data",
          "data": {
            "text/plain": [
              "'sorted by texture_worst --> [49.54, 47.16, 45.41, 44.87, 42.79]'"
            ],
            "application/vnd.google.colaboratory.intrinsic+json": {
              "type": "string"
            }
          },
          "metadata": {}
        },
        {
          "output_type": "display_data",
          "data": {
            "text/plain": [
              "'sorted by perimeter_worst --> [251.2, 229.3, 220.8, 214.0, 211.7]'"
            ],
            "application/vnd.google.colaboratory.intrinsic+json": {
              "type": "string"
            }
          },
          "metadata": {}
        },
        {
          "output_type": "display_data",
          "data": {
            "text/plain": [
              "'sorted by area_worst --> [4254.0, 3432.0, 3234.0, 3216.0, 3143.0]'"
            ],
            "application/vnd.google.colaboratory.intrinsic+json": {
              "type": "string"
            }
          },
          "metadata": {}
        },
        {
          "output_type": "display_data",
          "data": {
            "text/plain": [
              "'sorted by smoothness_worst --> [0.2226, 0.2184, 0.2098, 0.2006, 0.1909]'"
            ],
            "application/vnd.google.colaboratory.intrinsic+json": {
              "type": "string"
            }
          },
          "metadata": {}
        },
        {
          "output_type": "display_data",
          "data": {
            "text/plain": [
              "'sorted by compactness_worst --> [1.058, 0.9379, 0.9327, 0.8681, 0.8663]'"
            ],
            "application/vnd.google.colaboratory.intrinsic+json": {
              "type": "string"
            }
          },
          "metadata": {}
        },
        {
          "output_type": "display_data",
          "data": {
            "text/plain": [
              "'sorted by concavity_worst --> [1.252, 1.17, 1.105, 0.9608, 0.9387]'"
            ],
            "application/vnd.google.colaboratory.intrinsic+json": {
              "type": "string"
            }
          },
          "metadata": {}
        },
        {
          "output_type": "display_data",
          "data": {
            "text/plain": [
              "'sorted by concave points_worst --> [0.291, 0.2903, 0.2867, 0.2756, 0.2733]'"
            ],
            "application/vnd.google.colaboratory.intrinsic+json": {
              "type": "string"
            }
          },
          "metadata": {}
        },
        {
          "output_type": "display_data",
          "data": {
            "text/plain": [
              "'sorted by symmetry_worst --> [0.6638, 0.5774, 0.5558, 0.544, 0.5166]'"
            ],
            "application/vnd.google.colaboratory.intrinsic+json": {
              "type": "string"
            }
          },
          "metadata": {}
        },
        {
          "output_type": "display_data",
          "data": {
            "text/plain": [
              "'sorted by fractal_dimension_worst --> [0.2075, 0.173, 0.1486, 0.1446, 0.1431]'"
            ],
            "application/vnd.google.colaboratory.intrinsic+json": {
              "type": "string"
            }
          },
          "metadata": {}
        }
      ]
    },
    {
      "cell_type": "code",
      "source": [
        "def dfboxplot(df, listvar):\n",
        " fig, axes = plt.subplots(nrows=1, ncols=len(listvar), figsize=(40, 3))\n",
        " counter=0\n",
        " for ax in axes:\n",
        "  df.boxplot(column=listvar[counter], ax=axes[counter])\n",
        "  plt.ylabel('Yes or No')\n",
        "  plt.xlabel(listvar[counter])\n",
        "  counter = counter+1\n",
        " plt.show()\n",
        "dfboxplot(df, linear_vars)"
      ],
      "metadata": {
        "colab": {
          "base_uri": "https://localhost:8080/",
          "height": 113
        },
        "id": "nmOpToZEVYS7",
        "outputId": "4ea5991c-6927-43d3-aabe-849db14daa77"
      },
      "execution_count": null,
      "outputs": [
        {
          "output_type": "display_data",
          "data": {
            "text/plain": [
              "<Figure size 2880x216 with 31 Axes>"
            ],
            "image/png": "[encoded data removed]"
          },
          "metadata": {
            "needs_background": "light"
          }
        }
      ]
    },
    {
      "cell_type": "code",
      "source": [
        "#Remove  outliers\n",
        "\n",
        "def removeoutliers(df, listvars, z):\n",
        "    from scipy import stats\n",
        "    for var in listvars:\n",
        "        df1 = df[np.abs(stats.zscore(df[var])) < z]\n",
        "    return df1\n",
        "df = removeoutliers(df, linear_vars,2)\n",
        "df.info()"
      ],
      "metadata": {
        "colab": {
          "base_uri": "https://localhost:8080/"
        },
        "id": "y0FvpeDBWH7U",
        "outputId": "03896731-f4d8-4fde-fe05-3bc419eb5716"
      },
      "execution_count": null,
      "outputs": [
        {
          "output_type": "stream",
          "name": "stdout",
          "text": [
            "<class 'pandas.core.frame.DataFrame'>\n",
            "Int64Index: 542 entries, 0 to 568\n",
            "Data columns (total 31 columns):\n",
            " #   Column                   Non-Null Count  Dtype  \n",
            "---  ------                   --------------  -----  \n",
            " 0   diagnosis                542 non-null    int64  \n",
            " 1   radius_mean              542 non-null    float64\n",
            " 2   texture_mean             542 non-null    float64\n",
            " 3   perimeter_mean           542 non-null    float64\n",
            " 4   area_mean                542 non-null    float64\n",
            " 5   smoothness_mean          542 non-null    float64\n",
            " 6   compactness_mean         542 non-null    float64\n",
            " 7   concavity_mean           542 non-null    float64\n",
            " 8   concave points_mean      542 non-null    float64\n",
            " 9   symmetry_mean            542 non-null    float64\n",
            " 10  fractal_dimension_mean   542 non-null    float64\n",
            " 11  radius_se                542 non-null    float64\n",
            " 12  texture_se               542 non-null    float64\n",
            " 13  perimeter_se             542 non-null    float64\n",
            " 14  area_se                  542 non-null    float64\n",
            " 15  smoothness_se            542 non-null    float64\n",
            " 16  compactness_se           542 non-null    float64\n",
            " 17  concavity_se             542 non-null    float64\n",
            " 18  concave points_se        542 non-null    float64\n",
            " 19  symmetry_se              542 non-null    float64\n",
            " 20  fractal_dimension_se     542 non-null    float64\n",
            " 21  radius_worst             542 non-null    float64\n",
            " 22  texture_worst            542 non-null    float64\n",
            " 23  perimeter_worst          542 non-null    float64\n",
            " 24  area_worst               542 non-null    float64\n",
            " 25  smoothness_worst         542 non-null    float64\n",
            " 26  compactness_worst        542 non-null    float64\n",
            " 27  concavity_worst          542 non-null    float64\n",
            " 28  concave points_worst     542 non-null    float64\n",
            " 29  symmetry_worst           542 non-null    float64\n",
            " 30  fractal_dimension_worst  542 non-null    float64\n",
            "dtypes: float64(30), int64(1)\n",
            "memory usage: 135.5 KB\n"
          ]
        }
      ]
    },
    {
      "cell_type": "code",
      "source": [
        "dfboxplot(df, linear_vars) # After Removing Outliers"
      ],
      "metadata": {
        "colab": {
          "base_uri": "https://localhost:8080/",
          "height": 113
        },
        "id": "WIZdEY0HWVB0",
        "outputId": "dbc1e413-5101-4b36-8de9-83263a69f562"
      },
      "execution_count": null,
      "outputs": [
        {
          "output_type": "display_data",
          "data": {
            "text/plain": [
              "<Figure size 2880x216 with 31 Axes>"
            ],
            "image/png": "[encoded data removed]"
          },
          "metadata": {
            "needs_background": "light"
          }
        }
      ]
    },
    {
      "cell_type": "markdown",
      "source": [
        "\n",
        "\n",
        "```\n",
        "#Gaussian-distribution-in-data-science\n",
        "\n",
        "# this log converts dataframe's features inplace\n",
        "def convertfeatures2log(df, listvars):\n",
        "   for var in listvars:\n",
        "      df[var] = np.log(df[var])\n",
        "convertfeatures2log(df, linear_vars)\n",
        "```\n",
        "\n"
      ],
      "metadata": {
        "id": "epB_irYYbknF"
      }
    },
    {
      "cell_type": "code",
      "source": [
        "\n"
      ],
      "metadata": {
        "id": "6CHK83uhWmbs"
      },
      "execution_count": null,
      "outputs": []
    },
    {
      "cell_type": "code",
      "source": [
        "histplot(df, linear_vars)"
      ],
      "metadata": {
        "colab": {
          "base_uri": "https://localhost:8080/",
          "height": 117
        },
        "id": "PrNJCbJTW8I-",
        "outputId": "0e5f3df3-3c8a-43b8-88a6-53e4d59b7d85"
      },
      "execution_count": null,
      "outputs": [
        {
          "output_type": "display_data",
          "data": {
            "text/plain": [
              "<Figure size 2880x216 with 31 Axes>"
            ],
            "image/png": "[encoded data removed]"
          },
          "metadata": {
            "needs_background": "light"
          }
        }
      ]
    },
    {
      "cell_type": "code",
      "source": [
        "X_df = df.drop(['diagnosis'], axis=1)\n",
        "y_df = df[['diagnosis']]\n"
      ],
      "metadata": {
        "id": "5mOGQOj2XM69"
      },
      "execution_count": null,
      "outputs": []
    },
    {
      "cell_type": "code",
      "source": [
        "df_le = X_df.copy()\n",
        "# add a new column in dataframe — join 2 dataframe columns-wise\n",
        "df_le['diagnosis'] = y_df['diagnosis'].values\n",
        "df_le.corr()"
      ],
      "metadata": {
        "colab": {
          "base_uri": "https://localhost:8080/",
          "height": 1000
        },
        "id": "7XF_A3wNXUvz",
        "outputId": "2be47319-9660-4b46-ced9-a82621c0a261"
      },
      "execution_count": null,
      "outputs": [
        {
          "output_type": "execute_result",
          "data": {
            "text/plain": [
              "                         radius_mean  texture_mean  perimeter_mean  area_mean  \\\n",
              "radius_mean                 1.000000      0.315429        0.998043   0.987314   \n",
              "texture_mean                0.315429      1.000000        0.318230   0.316404   \n",
              "perimeter_mean              0.998043      0.318230        1.000000   0.986813   \n",
              "area_mean                   0.987314      0.316404        0.986813   1.000000   \n",
              "smoothness_mean             0.205284     -0.035711        0.238221   0.211406   \n",
              "compactness_mean            0.560971      0.209498        0.607696   0.553423   \n",
              "concavity_mean              0.725871      0.283999        0.761273   0.734955   \n",
              "concave points_mean         0.841406      0.275556        0.866657   0.842228   \n",
              "symmetry_mean               0.172790      0.042968        0.204036   0.175824   \n",
              "fractal_dimension_mean     -0.317069     -0.106825       -0.269634  -0.286667   \n",
              "radius_se                   0.685997      0.289127        0.698794   0.738537   \n",
              "texture_se                 -0.086561      0.406042       -0.076229  -0.056526   \n",
              "perimeter_se                0.678381      0.289621        0.697533   0.730185   \n",
              "area_se                     0.737321      0.266650        0.746866   0.801268   \n",
              "smoothness_se              -0.206526      0.034899       -0.186654  -0.151996   \n",
              "compactness_se              0.245168      0.175468        0.287340   0.252503   \n",
              "concavity_se                0.273906      0.171503        0.308552   0.284157   \n",
              "concave points_se           0.416949      0.181012        0.446511   0.408761   \n",
              "symmetry_se                -0.091643      0.021350       -0.069141  -0.059242   \n",
              "fractal_dimension_se       -0.004684      0.061187        0.030752   0.016403   \n",
              "radius_worst                0.970185      0.342616        0.969512   0.963735   \n",
              "texture_worst               0.299685      0.910263        0.301486   0.293835   \n",
              "perimeter_worst             0.966701      0.343735        0.971047   0.961292   \n",
              "area_worst                  0.940654      0.338350        0.940882   0.959219   \n",
              "smoothness_worst            0.155330      0.049257        0.181316   0.159678   \n",
              "compactness_worst           0.506827      0.231196        0.545011   0.483900   \n",
              "concavity_worst             0.606959      0.265386        0.638758   0.592726   \n",
              "concave points_worst        0.779072      0.266491        0.801435   0.757169   \n",
              "symmetry_worst              0.193134      0.062780        0.213134   0.173456   \n",
              "fractal_dimension_worst     0.039534      0.055577        0.080268   0.037802   \n",
              "diagnosis                   0.752404      0.396709        0.761096   0.732541   \n",
              "\n",
              "                         smoothness_mean  compactness_mean  concavity_mean  \\\n",
              "radius_mean                     0.205284          0.560971        0.725871   \n",
              "texture_mean                   -0.035711          0.209498        0.283999   \n",
              "perimeter_mean                  0.238221          0.607696        0.761273   \n",
              "area_mean                       0.211406          0.553423        0.734955   \n",
              "smoothness_mean                 1.000000          0.634308        0.510153   \n",
              "compactness_mean                0.634308          1.000000        0.891950   \n",
              "concavity_mean                  0.510153          0.891950        1.000000   \n",
              "concave points_mean             0.550881          0.844431        0.934351   \n",
              "symmetry_mean                   0.530370          0.568770        0.464846   \n",
              "fractal_dimension_mean          0.535789          0.498066        0.258527   \n",
              "radius_se                       0.325573          0.542750        0.658843   \n",
              "texture_se                      0.078389          0.044772        0.060878   \n",
              "perimeter_se                    0.320707          0.598194        0.693389   \n",
              "area_se                         0.274656          0.501918        0.652871   \n",
              "smoothness_se                   0.337957          0.132935        0.098840   \n",
              "compactness_se                  0.285131          0.728433        0.653022   \n",
              "concavity_se                    0.254152          0.634806        0.708476   \n",
              "concave points_se               0.381695          0.674477        0.678562   \n",
              "symmetry_se                     0.188949          0.221800        0.169928   \n",
              "fractal_dimension_se            0.243303          0.491564        0.389245   \n",
              "radius_worst                    0.236897          0.576957        0.726519   \n",
              "texture_worst                   0.012584          0.201320        0.271510   \n",
              "perimeter_worst                 0.260944          0.630813        0.766013   \n",
              "area_worst                      0.232186          0.553100        0.715505   \n",
              "smoothness_worst                0.795326          0.514686        0.422628   \n",
              "compactness_worst               0.444066          0.871486        0.783452   \n",
              "concavity_worst                 0.409586          0.810946        0.894876   \n",
              "concave points_worst            0.487701          0.809436        0.864190   \n",
              "symmetry_worst                  0.348302          0.451420        0.373278   \n",
              "fractal_dimension_worst         0.462506          0.646768        0.473747   \n",
              "diagnosis                       0.341699          0.588102        0.704118   \n",
              "\n",
              "                         concave points_mean  symmetry_mean  \\\n",
              "radius_mean                         0.841406       0.172790   \n",
              "texture_mean                        0.275556       0.042968   \n",
              "perimeter_mean                      0.866657       0.204036   \n",
              "area_mean                           0.842228       0.175824   \n",
              "smoothness_mean                     0.550881       0.530370   \n",
              "compactness_mean                    0.844431       0.568770   \n",
              "concavity_mean                      0.934351       0.464846   \n",
              "concave points_mean                 1.000000       0.446949   \n",
              "symmetry_mean                       0.446949       1.000000   \n",
              "fractal_dimension_mean              0.119313       0.417937   \n",
              "radius_se                           0.711223       0.321349   \n",
              "texture_se                          0.025492       0.119339   \n",
              "perimeter_se                        0.724028       0.332490   \n",
              "area_se                             0.704160       0.245179   \n",
              "smoothness_se                       0.031455       0.187193   \n",
              "compactness_se                      0.497383       0.376049   \n",
              "concavity_se                        0.492403       0.310507   \n",
              "concave points_se                   0.634187       0.376679   \n",
              "symmetry_se                         0.094252       0.447592   \n",
              "fractal_dimension_se                0.252637       0.272347   \n",
              "radius_worst                        0.842432       0.201088   \n",
              "texture_worst                       0.273605       0.046480   \n",
              "perimeter_worst                     0.866796       0.230710   \n",
              "area_worst                          0.822747       0.194434   \n",
              "smoothness_worst                    0.444060       0.380276   \n",
              "compactness_worst                   0.715165       0.428553   \n",
              "concavity_worst                     0.785752       0.382730   \n",
              "concave points_worst                0.913796       0.398413   \n",
              "symmetry_worst                      0.357073       0.683465   \n",
              "fractal_dimension_worst             0.362561       0.378974   \n",
              "diagnosis                           0.776519       0.309813   \n",
              "\n",
              "                         fractal_dimension_mean  ...  texture_worst  \\\n",
              "radius_mean                           -0.317069  ...       0.299685   \n",
              "texture_mean                          -0.106825  ...       0.910263   \n",
              "perimeter_mean                        -0.269634  ...       0.301486   \n",
              "area_mean                             -0.286667  ...       0.293835   \n",
              "smoothness_mean                        0.535789  ...       0.012584   \n",
              "compactness_mean                       0.498066  ...       0.201320   \n",
              "concavity_mean                         0.258527  ...       0.271510   \n",
              "concave points_mean                    0.119313  ...       0.273605   \n",
              "symmetry_mean                          0.417937  ...       0.046480   \n",
              "fractal_dimension_mean                 1.000000  ...      -0.108942   \n",
              "radius_se                             -0.005581  ...       0.215912   \n",
              "texture_se                             0.160826  ...       0.431918   \n",
              "perimeter_se                           0.048211  ...       0.215301   \n",
              "area_se                               -0.089165  ...       0.210621   \n",
              "smoothness_se                          0.403763  ...      -0.055119   \n",
              "compactness_se                         0.507771  ...       0.094663   \n",
              "concavity_se                           0.396131  ...       0.105710   \n",
              "concave points_se                      0.296178  ...       0.097313   \n",
              "symmetry_se                            0.339849  ...      -0.076206   \n",
              "fractal_dimension_se                   0.647639  ...      -0.029278   \n",
              "radius_worst                          -0.271613  ...       0.361295   \n",
              "texture_worst                         -0.108942  ...       1.000000   \n",
              "perimeter_worst                       -0.222162  ...       0.360707   \n",
              "area_worst                            -0.243990  ...       0.352368   \n",
              "smoothness_worst                       0.428520  ...       0.189452   \n",
              "compactness_worst                      0.363297  ...       0.288015   \n",
              "concavity_worst                        0.233518  ...       0.313304   \n",
              "concave points_worst                   0.097265  ...       0.325094   \n",
              "symmetry_worst                         0.242146  ...       0.180970   \n",
              "fractal_dimension_worst                0.743055  ...       0.130896   \n",
              "diagnosis                             -0.080401  ...       0.432413   \n",
              "\n",
              "                         perimeter_worst  area_worst  smoothness_worst  \\\n",
              "radius_mean                     0.966701    0.940654          0.155330   \n",
              "texture_mean                    0.343735    0.338350          0.049257   \n",
              "perimeter_mean                  0.971047    0.940882          0.181316   \n",
              "area_mean                       0.961292    0.959219          0.159678   \n",
              "smoothness_mean                 0.260944    0.232186          0.795326   \n",
              "compactness_mean                0.630813    0.553100          0.514686   \n",
              "concavity_mean                  0.766013    0.715505          0.422628   \n",
              "concave points_mean             0.866796    0.822747          0.444060   \n",
              "symmetry_mean                   0.230710    0.194434          0.380276   \n",
              "fractal_dimension_mean         -0.222162   -0.243990          0.428520   \n",
              "radius_se                       0.727992    0.756692          0.165771   \n",
              "texture_se                     -0.091092   -0.072787         -0.080538   \n",
              "perimeter_se                    0.725891    0.734151          0.153183   \n",
              "area_se                         0.765029    0.812729          0.152047   \n",
              "smoothness_se                  -0.201238   -0.169989          0.314798   \n",
              "compactness_se                  0.287020    0.227522          0.161266   \n",
              "concavity_se                    0.298074    0.252311          0.159971   \n",
              "concave points_se               0.430521    0.373030          0.213359   \n",
              "symmetry_se                    -0.093690   -0.099128         -0.038635   \n",
              "fractal_dimension_se            0.023995   -0.000265          0.101492   \n",
              "radius_worst                    0.994288    0.984026          0.244119   \n",
              "texture_worst                   0.360707    0.352368          0.189452   \n",
              "perimeter_worst                 1.000000    0.978750          0.261585   \n",
              "area_worst                      0.978750    1.000000          0.239612   \n",
              "smoothness_worst                0.261585    0.239612          1.000000   \n",
              "compactness_worst               0.610671    0.522706          0.518423   \n",
              "concavity_worst                 0.681695    0.612463          0.478192   \n",
              "concave points_worst            0.839621    0.775549          0.526532   \n",
              "symmetry_worst                  0.285678    0.234846          0.450858   \n",
              "fractal_dimension_worst         0.165592    0.109776          0.574391   \n",
              "diagnosis                       0.795235    0.750902          0.396895   \n",
              "\n",
              "                         compactness_worst  concavity_worst  \\\n",
              "radius_mean                       0.506827         0.606959   \n",
              "texture_mean                      0.231196         0.265386   \n",
              "perimeter_mean                    0.545011         0.638758   \n",
              "area_mean                         0.483900         0.592726   \n",
              "smoothness_mean                   0.444066         0.409586   \n",
              "compactness_mean                  0.871486         0.810946   \n",
              "concavity_mean                    0.783452         0.894876   \n",
              "concave points_mean               0.715165         0.785752   \n",
              "symmetry_mean                     0.428553         0.382730   \n",
              "fractal_dimension_mean            0.363297         0.233518   \n",
              "radius_se                         0.360501         0.431992   \n",
              "texture_se                       -0.122226        -0.097950   \n",
              "perimeter_se                      0.421486         0.475039   \n",
              "area_se                           0.356758         0.443104   \n",
              "smoothness_se                    -0.064287        -0.066071   \n",
              "compactness_se                    0.656532         0.597511   \n",
              "concavity_se                      0.560090         0.709108   \n",
              "concave points_se                 0.518108         0.575651   \n",
              "symmetry_se                       0.032429         0.019594   \n",
              "fractal_dimension_se              0.353858         0.297648   \n",
              "radius_worst                      0.557663         0.641149   \n",
              "texture_worst                     0.288015         0.313304   \n",
              "perimeter_worst                   0.610671         0.681695   \n",
              "area_worst                        0.522706         0.612463   \n",
              "smoothness_worst                  0.518423         0.478192   \n",
              "compactness_worst                 1.000000         0.886931   \n",
              "concavity_worst                   0.886931         1.000000   \n",
              "concave points_worst              0.825032         0.870370   \n",
              "symmetry_worst                    0.550418         0.480268   \n",
              "fractal_dimension_worst           0.743620         0.602013   \n",
              "diagnosis                         0.595200         0.669092   \n",
              "\n",
              "                         concave points_worst  symmetry_worst  \\\n",
              "radius_mean                          0.779072        0.193134   \n",
              "texture_mean                         0.266491        0.062780   \n",
              "perimeter_mean                       0.801435        0.213134   \n",
              "area_mean                            0.757169        0.173456   \n",
              "smoothness_mean                      0.487701        0.348302   \n",
              "compactness_mean                     0.809436        0.451420   \n",
              "concavity_mean                       0.864190        0.373278   \n",
              "concave points_mean                  0.913796        0.357073   \n",
              "symmetry_mean                        0.398413        0.683465   \n",
              "fractal_dimension_mean               0.097265        0.242146   \n",
              "radius_se                            0.555989        0.114238   \n",
              "texture_se                          -0.121867       -0.148562   \n",
              "perimeter_se                         0.579963        0.126730   \n",
              "area_se                              0.564361        0.095864   \n",
              "smoothness_se                       -0.099154       -0.117099   \n",
              "compactness_se                       0.465647        0.191432   \n",
              "concavity_se                         0.487480        0.178785   \n",
              "concave points_se                    0.627663        0.132991   \n",
              "symmetry_se                         -0.041742        0.373619   \n",
              "fractal_dimension_se                 0.183783        0.032655   \n",
              "radius_worst                         0.813671        0.264973   \n",
              "texture_worst                        0.325094        0.180970   \n",
              "perimeter_worst                      0.839621        0.285678   \n",
              "area_worst                           0.775549        0.234846   \n",
              "smoothness_worst                     0.526532        0.450858   \n",
              "compactness_worst                    0.825032        0.550418   \n",
              "concavity_worst                      0.870370        0.480268   \n",
              "concave points_worst                 1.000000        0.469138   \n",
              "symmetry_worst                       0.469138        1.000000   \n",
              "fractal_dimension_worst              0.483802        0.464924   \n",
              "diagnosis                            0.787152        0.386130   \n",
              "\n",
              "                         fractal_dimension_worst  diagnosis  \n",
              "radius_mean                             0.039534   0.752404  \n",
              "texture_mean                            0.055577   0.396709  \n",
              "perimeter_mean                          0.080268   0.761096  \n",
              "area_mean                               0.037802   0.732541  \n",
              "smoothness_mean                         0.462506   0.341699  \n",
              "compactness_mean                        0.646768   0.588102  \n",
              "concavity_mean                          0.473747   0.704118  \n",
              "concave points_mean                     0.362561   0.776519  \n",
              "symmetry_mean                           0.378974   0.309813  \n",
              "fractal_dimension_mean                  0.743055  -0.080401  \n",
              "radius_se                               0.069424   0.589593  \n",
              "texture_se                             -0.089141   0.000710  \n",
              "perimeter_se                            0.120295   0.576558  \n",
              "area_se                                 0.041096   0.566620  \n",
              "smoothness_se                           0.096090  -0.053354  \n",
              "compactness_se                          0.531517   0.276611  \n",
              "concavity_se                            0.434518   0.301409  \n",
              "concave points_se                       0.314808   0.435887  \n",
              "symmetry_se                             0.046427  -0.007631  \n",
              "fractal_dimension_se                    0.566683   0.067308  \n",
              "radius_worst                            0.118121   0.791493  \n",
              "texture_worst                           0.130896   0.432413  \n",
              "perimeter_worst                         0.165592   0.795235  \n",
              "area_worst                              0.109776   0.750902  \n",
              "smoothness_worst                        0.574391   0.396895  \n",
              "compactness_worst                       0.743620   0.595200  \n",
              "concavity_worst                         0.602013   0.669092  \n",
              "concave points_worst                    0.483802   0.787152  \n",
              "symmetry_worst                          0.464924   0.386130  \n",
              "fractal_dimension_worst                 1.000000   0.280785  \n",
              "diagnosis                               0.280785   1.000000  \n",
              "\n",
              "[31 rows x 31 columns]"
            ],
            "text/html": [
              "\n",
              "  <div id=\"df-0fb7c540-06b8-4bc1-a7b9-d31c14276c64\">\n",
              "    <div class=\"colab-df-container\">\n",
              "      <div>\n",
              "<style scoped>\n",
              "    .dataframe tbody tr th:only-of-type {\n",
              "        vertical-align: middle;\n",
              "    }\n",
              "\n",
              "    .dataframe tbody tr th {\n",
              "        vertical-align: top;\n",
              "    }\n",
              "\n",
              "    .dataframe thead th {\n",
              "        text-align: right;\n",
              "    }\n",
              "</style>\n",
              "<table border=\"1\" class=\"dataframe\">\n",
              "  <thead>\n",
              "    <tr style=\"text-align: right;\">\n",
              "      <th></th>\n",
              "      <th>radius_mean</th>\n",
              "      <th>texture_mean</th>\n",
              "      <th>perimeter_mean</th>\n",
              "      <th>area_mean</th>\n",
              "      <th>smoothness_mean</th>\n",
              "      <th>compactness_mean</th>\n",
              "      <th>concavity_mean</th>\n",
              "      <th>concave points_mean</th>\n",
              "      <th>symmetry_mean</th>\n",
              "      <th>fractal_dimension_mean</th>\n",
              "      <th>...</th>\n",
              "      <th>texture_worst</th>\n",
              "      <th>perimeter_worst</th>\n",
              "      <th>area_worst</th>\n",
              "      <th>smoothness_worst</th>\n",
              "      <th>compactness_worst</th>\n",
              "      <th>concavity_worst</th>\n",
              "      <th>concave points_worst</th>\n",
              "      <th>symmetry_worst</th>\n",
              "      <th>fractal_dimension_worst</th>\n",
              "      <th>diagnosis</th>\n",
              "    </tr>\n",
              "  </thead>\n",
              "  <tbody>\n",
              "    <tr>\n",
              "      <th>radius_mean</th>\n",
              "      <td>1.000000</td>\n",
              "      <td>0.315429</td>\n",
              "      <td>0.998043</td>\n",
              "      <td>0.987314</td>\n",
              "      <td>0.205284</td>\n",
              "      <td>0.560971</td>\n",
              "      <td>0.725871</td>\n",
              "      <td>0.841406</td>\n",
              "      <td>0.172790</td>\n",
              "      <td>-0.317069</td>\n",
              "      <td>...</td>\n",
              "      <td>0.299685</td>\n",
              "      <td>0.966701</td>\n",
              "      <td>0.940654</td>\n",
              "      <td>0.155330</td>\n",
              "      <td>0.506827</td>\n",
              "      <td>0.606959</td>\n",
              "      <td>0.779072</td>\n",
              "      <td>0.193134</td>\n",
              "      <td>0.039534</td>\n",
              "      <td>0.752404</td>\n",
              "    </tr>\n",
              "    <tr>\n",
              "      <th>texture_mean</th>\n",
              "      <td>0.315429</td>\n",
              "      <td>1.000000</td>\n",
              "      <td>0.318230</td>\n",
              "      <td>0.316404</td>\n",
              "      <td>-0.035711</td>\n",
              "      <td>0.209498</td>\n",
              "      <td>0.283999</td>\n",
              "      <td>0.275556</td>\n",
              "      <td>0.042968</td>\n",
              "      <td>-0.106825</td>\n",
              "      <td>...</td>\n",
              "      <td>0.910263</td>\n",
              "      <td>0.343735</td>\n",
              "      <td>0.338350</td>\n",
              "      <td>0.049257</td>\n",
              "      <td>0.231196</td>\n",
              "      <td>0.265386</td>\n",
              "      <td>0.266491</td>\n",
              "      <td>0.062780</td>\n",
              "      <td>0.055577</td>\n",
              "      <td>0.396709</td>\n",
              "    </tr>\n",
              "    <tr>\n",
              "      <th>perimeter_mean</th>\n",
              "      <td>0.998043</td>\n",
              "      <td>0.318230</td>\n",
              "      <td>1.000000</td>\n",
              "      <td>0.986813</td>\n",
              "      <td>0.238221</td>\n",
              "      <td>0.607696</td>\n",
              "      <td>0.761273</td>\n",
              "      <td>0.866657</td>\n",
              "      <td>0.204036</td>\n",
              "      <td>-0.269634</td>\n",
              "      <td>...</td>\n",
              "      <td>0.301486</td>\n",
              "      <td>0.971047</td>\n",
              "      <td>0.940882</td>\n",
              "      <td>0.181316</td>\n",
              "      <td>0.545011</td>\n",
              "      <td>0.638758</td>\n",
              "      <td>0.801435</td>\n",
              "      <td>0.213134</td>\n",
              "      <td>0.080268</td>\n",
              "      <td>0.761096</td>\n",
              "    </tr>\n",
              "    <tr>\n",
              "      <th>area_mean</th>\n",
              "      <td>0.987314</td>\n",
              "      <td>0.316404</td>\n",
              "      <td>0.986813</td>\n",
              "      <td>1.000000</td>\n",
              "      <td>0.211406</td>\n",
              "      <td>0.553423</td>\n",
              "      <td>0.734955</td>\n",
              "      <td>0.842228</td>\n",
              "      <td>0.175824</td>\n",
              "      <td>-0.286667</td>\n",
              "      <td>...</td>\n",
              "      <td>0.293835</td>\n",
              "      <td>0.961292</td>\n",
              "      <td>0.959219</td>\n",
              "      <td>0.159678</td>\n",
              "      <td>0.483900</td>\n",
              "      <td>0.592726</td>\n",
              "      <td>0.757169</td>\n",
              "      <td>0.173456</td>\n",
              "      <td>0.037802</td>\n",
              "      <td>0.732541</td>\n",
              "    </tr>\n",
              "    <tr>\n",
              "      <th>smoothness_mean</th>\n",
              "      <td>0.205284</td>\n",
              "      <td>-0.035711</td>\n",
              "      <td>0.238221</td>\n",
              "      <td>0.211406</td>\n",
              "      <td>1.000000</td>\n",
              "      <td>0.634308</td>\n",
              "      <td>0.510153</td>\n",
              "      <td>0.550881</td>\n",
              "      <td>0.530370</td>\n",
              "      <td>0.535789</td>\n",
              "      <td>...</td>\n",
              "      <td>0.012584</td>\n",
              "      <td>0.260944</td>\n",
              "      <td>0.232186</td>\n",
              "      <td>0.795326</td>\n",
              "      <td>0.444066</td>\n",
              "      <td>0.409586</td>\n",
              "      <td>0.487701</td>\n",
              "      <td>0.348302</td>\n",
              "      <td>0.462506</td>\n",
              "      <td>0.341699</td>\n",
              "    </tr>\n",
              "    <tr>\n",
              "      <th>compactness_mean</th>\n",
              "      <td>0.560971</td>\n",
              "      <td>0.209498</td>\n",
              "      <td>0.607696</td>\n",
              "      <td>0.553423</td>\n",
              "      <td>0.634308</td>\n",
              "      <td>1.000000</td>\n",
              "      <td>0.891950</td>\n",
              "      <td>0.844431</td>\n",
              "      <td>0.568770</td>\n",
              "      <td>0.498066</td>\n",
              "      <td>...</td>\n",
              "      <td>0.201320</td>\n",
              "      <td>0.630813</td>\n",
              "      <td>0.553100</td>\n",
              "      <td>0.514686</td>\n",
              "      <td>0.871486</td>\n",
              "      <td>0.810946</td>\n",
              "      <td>0.809436</td>\n",
              "      <td>0.451420</td>\n",
              "      <td>0.646768</td>\n",
              "      <td>0.588102</td>\n",
              "    </tr>\n",
              "    <tr>\n",
              "      <th>concavity_mean</th>\n",
              "      <td>0.725871</td>\n",
              "      <td>0.283999</td>\n",
              "      <td>0.761273</td>\n",
              "      <td>0.734955</td>\n",
              "      <td>0.510153</td>\n",
              "      <td>0.891950</td>\n",
              "      <td>1.000000</td>\n",
              "      <td>0.934351</td>\n",
              "      <td>0.464846</td>\n",
              "      <td>0.258527</td>\n",
              "      <td>...</td>\n",
              "      <td>0.271510</td>\n",
              "      <td>0.766013</td>\n",
              "      <td>0.715505</td>\n",
              "      <td>0.422628</td>\n",
              "      <td>0.783452</td>\n",
              "      <td>0.894876</td>\n",
              "      <td>0.864190</td>\n",
              "      <td>0.373278</td>\n",
              "      <td>0.473747</td>\n",
              "      <td>0.704118</td>\n",
              "    </tr>\n",
              "    <tr>\n",
              "      <th>concave points_mean</th>\n",
              "      <td>0.841406</td>\n",
              "      <td>0.275556</td>\n",
              "      <td>0.866657</td>\n",
              "      <td>0.842228</td>\n",
              "      <td>0.550881</td>\n",
              "      <td>0.844431</td>\n",
              "      <td>0.934351</td>\n",
              "      <td>1.000000</td>\n",
              "      <td>0.446949</td>\n",
              "      <td>0.119313</td>\n",
              "      <td>...</td>\n",
              "      <td>0.273605</td>\n",
              "      <td>0.866796</td>\n",
              "      <td>0.822747</td>\n",
              "      <td>0.444060</td>\n",
              "      <td>0.715165</td>\n",
              "      <td>0.785752</td>\n",
              "      <td>0.913796</td>\n",
              "      <td>0.357073</td>\n",
              "      <td>0.362561</td>\n",
              "      <td>0.776519</td>\n",
              "    </tr>\n",
              "    <tr>\n",
              "      <th>symmetry_mean</th>\n",
              "      <td>0.172790</td>\n",
              "      <td>0.042968</td>\n",
              "      <td>0.204036</td>\n",
              "      <td>0.175824</td>\n",
              "      <td>0.530370</td>\n",
              "      <td>0.568770</td>\n",
              "      <td>0.464846</td>\n",
              "      <td>0.446949</td>\n",
              "      <td>1.000000</td>\n",
              "      <td>0.417937</td>\n",
              "      <td>...</td>\n",
              "      <td>0.046480</td>\n",
              "      <td>0.230710</td>\n",
              "      <td>0.194434</td>\n",
              "      <td>0.380276</td>\n",
              "      <td>0.428553</td>\n",
              "      <td>0.382730</td>\n",
              "      <td>0.398413</td>\n",
              "      <td>0.683465</td>\n",
              "      <td>0.378974</td>\n",
              "      <td>0.309813</td>\n",
              "    </tr>\n",
              "    <tr>\n",
              "      <th>fractal_dimension_mean</th>\n",
              "      <td>-0.317069</td>\n",
              "      <td>-0.106825</td>\n",
              "      <td>-0.269634</td>\n",
              "      <td>-0.286667</td>\n",
              "      <td>0.535789</td>\n",
              "      <td>0.498066</td>\n",
              "      <td>0.258527</td>\n",
              "      <td>0.119313</td>\n",
              "      <td>0.417937</td>\n",
              "      <td>1.000000</td>\n",
              "      <td>...</td>\n",
              "      <td>-0.108942</td>\n",
              "      <td>-0.222162</td>\n",
              "      <td>-0.243990</td>\n",
              "      <td>0.428520</td>\n",
              "      <td>0.363297</td>\n",
              "      <td>0.233518</td>\n",
              "      <td>0.097265</td>\n",
              "      <td>0.242146</td>\n",
              "      <td>0.743055</td>\n",
              "      <td>-0.080401</td>\n",
              "    </tr>\n",
              "    <tr>\n",
              "      <th>radius_se</th>\n",
              "      <td>0.685997</td>\n",
              "      <td>0.289127</td>\n",
              "      <td>0.698794</td>\n",
              "      <td>0.738537</td>\n",
              "      <td>0.325573</td>\n",
              "      <td>0.542750</td>\n",
              "      <td>0.658843</td>\n",
              "      <td>0.711223</td>\n",
              "      <td>0.321349</td>\n",
              "      <td>-0.005581</td>\n",
              "      <td>...</td>\n",
              "      <td>0.215912</td>\n",
              "      <td>0.727992</td>\n",
              "      <td>0.756692</td>\n",
              "      <td>0.165771</td>\n",
              "      <td>0.360501</td>\n",
              "      <td>0.431992</td>\n",
              "      <td>0.555989</td>\n",
              "      <td>0.114238</td>\n",
              "      <td>0.069424</td>\n",
              "      <td>0.589593</td>\n",
              "    </tr>\n",
              "    <tr>\n",
              "      <th>texture_se</th>\n",
              "      <td>-0.086561</td>\n",
              "      <td>0.406042</td>\n",
              "      <td>-0.076229</td>\n",
              "      <td>-0.056526</td>\n",
              "      <td>0.078389</td>\n",
              "      <td>0.044772</td>\n",
              "      <td>0.060878</td>\n",
              "      <td>0.025492</td>\n",
              "      <td>0.119339</td>\n",
              "      <td>0.160826</td>\n",
              "      <td>...</td>\n",
              "      <td>0.431918</td>\n",
              "      <td>-0.091092</td>\n",
              "      <td>-0.072787</td>\n",
              "      <td>-0.080538</td>\n",
              "      <td>-0.122226</td>\n",
              "      <td>-0.097950</td>\n",
              "      <td>-0.121867</td>\n",
              "      <td>-0.148562</td>\n",
              "      <td>-0.089141</td>\n",
              "      <td>0.000710</td>\n",
              "    </tr>\n",
              "    <tr>\n",
              "      <th>perimeter_se</th>\n",
              "      <td>0.678381</td>\n",
              "      <td>0.289621</td>\n",
              "      <td>0.697533</td>\n",
              "      <td>0.730185</td>\n",
              "      <td>0.320707</td>\n",
              "      <td>0.598194</td>\n",
              "      <td>0.693389</td>\n",
              "      <td>0.724028</td>\n",
              "      <td>0.332490</td>\n",
              "      <td>0.048211</td>\n",
              "      <td>...</td>\n",
              "      <td>0.215301</td>\n",
              "      <td>0.725891</td>\n",
              "      <td>0.734151</td>\n",
              "      <td>0.153183</td>\n",
              "      <td>0.421486</td>\n",
              "      <td>0.475039</td>\n",
              "      <td>0.579963</td>\n",
              "      <td>0.126730</td>\n",
              "      <td>0.120295</td>\n",
              "      <td>0.576558</td>\n",
              "    </tr>\n",
              "    <tr>\n",
              "      <th>area_se</th>\n",
              "      <td>0.737321</td>\n",
              "      <td>0.266650</td>\n",
              "      <td>0.746866</td>\n",
              "      <td>0.801268</td>\n",
              "      <td>0.274656</td>\n",
              "      <td>0.501918</td>\n",
              "      <td>0.652871</td>\n",
              "      <td>0.704160</td>\n",
              "      <td>0.245179</td>\n",
              "      <td>-0.089165</td>\n",
              "      <td>...</td>\n",
              "      <td>0.210621</td>\n",
              "      <td>0.765029</td>\n",
              "      <td>0.812729</td>\n",
              "      <td>0.152047</td>\n",
              "      <td>0.356758</td>\n",
              "      <td>0.443104</td>\n",
              "      <td>0.564361</td>\n",
              "      <td>0.095864</td>\n",
              "      <td>0.041096</td>\n",
              "      <td>0.566620</td>\n",
              "    </tr>\n",
              "    <tr>\n",
              "      <th>smoothness_se</th>\n",
              "      <td>-0.206526</td>\n",
              "      <td>0.034899</td>\n",
              "      <td>-0.186654</td>\n",
              "      <td>-0.151996</td>\n",
              "      <td>0.337957</td>\n",
              "      <td>0.132935</td>\n",
              "      <td>0.098840</td>\n",
              "      <td>0.031455</td>\n",
              "      <td>0.187193</td>\n",
              "      <td>0.403763</td>\n",
              "      <td>...</td>\n",
              "      <td>-0.055119</td>\n",
              "      <td>-0.201238</td>\n",
              "      <td>-0.169989</td>\n",
              "      <td>0.314798</td>\n",
              "      <td>-0.064287</td>\n",
              "      <td>-0.066071</td>\n",
              "      <td>-0.099154</td>\n",
              "      <td>-0.117099</td>\n",
              "      <td>0.096090</td>\n",
              "      <td>-0.053354</td>\n",
              "    </tr>\n",
              "    <tr>\n",
              "      <th>compactness_se</th>\n",
              "      <td>0.245168</td>\n",
              "      <td>0.175468</td>\n",
              "      <td>0.287340</td>\n",
              "      <td>0.252503</td>\n",
              "      <td>0.285131</td>\n",
              "      <td>0.728433</td>\n",
              "      <td>0.653022</td>\n",
              "      <td>0.497383</td>\n",
              "      <td>0.376049</td>\n",
              "      <td>0.507771</td>\n",
              "      <td>...</td>\n",
              "      <td>0.094663</td>\n",
              "      <td>0.287020</td>\n",
              "      <td>0.227522</td>\n",
              "      <td>0.161266</td>\n",
              "      <td>0.656532</td>\n",
              "      <td>0.597511</td>\n",
              "      <td>0.465647</td>\n",
              "      <td>0.191432</td>\n",
              "      <td>0.531517</td>\n",
              "      <td>0.276611</td>\n",
              "    </tr>\n",
              "    <tr>\n",
              "      <th>concavity_se</th>\n",
              "      <td>0.273906</td>\n",
              "      <td>0.171503</td>\n",
              "      <td>0.308552</td>\n",
              "      <td>0.284157</td>\n",
              "      <td>0.254152</td>\n",
              "      <td>0.634806</td>\n",
              "      <td>0.708476</td>\n",
              "      <td>0.492403</td>\n",
              "      <td>0.310507</td>\n",
              "      <td>0.396131</td>\n",
              "      <td>...</td>\n",
              "      <td>0.105710</td>\n",
              "      <td>0.298074</td>\n",
              "      <td>0.252311</td>\n",
              "      <td>0.159971</td>\n",
              "      <td>0.560090</td>\n",
              "      <td>0.709108</td>\n",
              "      <td>0.487480</td>\n",
              "      <td>0.178785</td>\n",
              "      <td>0.434518</td>\n",
              "      <td>0.301409</td>\n",
              "    </tr>\n",
              "    <tr>\n",
              "      <th>concave points_se</th>\n",
              "      <td>0.416949</td>\n",
              "      <td>0.181012</td>\n",
              "      <td>0.446511</td>\n",
              "      <td>0.408761</td>\n",
              "      <td>0.381695</td>\n",
              "      <td>0.674477</td>\n",
              "      <td>0.678562</td>\n",
              "      <td>0.634187</td>\n",
              "      <td>0.376679</td>\n",
              "      <td>0.296178</td>\n",
              "      <td>...</td>\n",
              "      <td>0.097313</td>\n",
              "      <td>0.430521</td>\n",
              "      <td>0.373030</td>\n",
              "      <td>0.213359</td>\n",
              "      <td>0.518108</td>\n",
              "      <td>0.575651</td>\n",
              "      <td>0.627663</td>\n",
              "      <td>0.132991</td>\n",
              "      <td>0.314808</td>\n",
              "      <td>0.435887</td>\n",
              "    </tr>\n",
              "    <tr>\n",
              "      <th>symmetry_se</th>\n",
              "      <td>-0.091643</td>\n",
              "      <td>0.021350</td>\n",
              "      <td>-0.069141</td>\n",
              "      <td>-0.059242</td>\n",
              "      <td>0.188949</td>\n",
              "      <td>0.221800</td>\n",
              "      <td>0.169928</td>\n",
              "      <td>0.094252</td>\n",
              "      <td>0.447592</td>\n",
              "      <td>0.339849</td>\n",
              "      <td>...</td>\n",
              "      <td>-0.076206</td>\n",
              "      <td>-0.093690</td>\n",
              "      <td>-0.099128</td>\n",
              "      <td>-0.038635</td>\n",
              "      <td>0.032429</td>\n",
              "      <td>0.019594</td>\n",
              "      <td>-0.041742</td>\n",
              "      <td>0.373619</td>\n",
              "      <td>0.046427</td>\n",
              "      <td>-0.007631</td>\n",
              "    </tr>\n",
              "    <tr>\n",
              "      <th>fractal_dimension_se</th>\n",
              "      <td>-0.004684</td>\n",
              "      <td>0.061187</td>\n",
              "      <td>0.030752</td>\n",
              "      <td>0.016403</td>\n",
              "      <td>0.243303</td>\n",
              "      <td>0.491564</td>\n",
              "      <td>0.389245</td>\n",
              "      <td>0.252637</td>\n",
              "      <td>0.272347</td>\n",
              "      <td>0.647639</td>\n",
              "      <td>...</td>\n",
              "      <td>-0.029278</td>\n",
              "      <td>0.023995</td>\n",
              "      <td>-0.000265</td>\n",
              "      <td>0.101492</td>\n",
              "      <td>0.353858</td>\n",
              "      <td>0.297648</td>\n",
              "      <td>0.183783</td>\n",
              "      <td>0.032655</td>\n",
              "      <td>0.566683</td>\n",
              "      <td>0.067308</td>\n",
              "    </tr>\n",
              "    <tr>\n",
              "      <th>radius_worst</th>\n",
              "      <td>0.970185</td>\n",
              "      <td>0.342616</td>\n",
              "      <td>0.969512</td>\n",
              "      <td>0.963735</td>\n",
              "      <td>0.236897</td>\n",
              "      <td>0.576957</td>\n",
              "      <td>0.726519</td>\n",
              "      <td>0.842432</td>\n",
              "      <td>0.201088</td>\n",
              "      <td>-0.271613</td>\n",
              "      <td>...</td>\n",
              "      <td>0.361295</td>\n",
              "      <td>0.994288</td>\n",
              "      <td>0.984026</td>\n",
              "      <td>0.244119</td>\n",
              "      <td>0.557663</td>\n",
              "      <td>0.641149</td>\n",
              "      <td>0.813671</td>\n",
              "      <td>0.264973</td>\n",
              "      <td>0.118121</td>\n",
              "      <td>0.791493</td>\n",
              "    </tr>\n",
              "    <tr>\n",
              "      <th>texture_worst</th>\n",
              "      <td>0.299685</td>\n",
              "      <td>0.910263</td>\n",
              "      <td>0.301486</td>\n",
              "      <td>0.293835</td>\n",
              "      <td>0.012584</td>\n",
              "      <td>0.201320</td>\n",
              "      <td>0.271510</td>\n",
              "      <td>0.273605</td>\n",
              "      <td>0.046480</td>\n",
              "      <td>-0.108942</td>\n",
              "      <td>...</td>\n",
              "      <td>1.000000</td>\n",
              "      <td>0.360707</td>\n",
              "      <td>0.352368</td>\n",
              "      <td>0.189452</td>\n",
              "      <td>0.288015</td>\n",
              "      <td>0.313304</td>\n",
              "      <td>0.325094</td>\n",
              "      <td>0.180970</td>\n",
              "      <td>0.130896</td>\n",
              "      <td>0.432413</td>\n",
              "    </tr>\n",
              "    <tr>\n",
              "      <th>perimeter_worst</th>\n",
              "      <td>0.966701</td>\n",
              "      <td>0.343735</td>\n",
              "      <td>0.971047</td>\n",
              "      <td>0.961292</td>\n",
              "      <td>0.260944</td>\n",
              "      <td>0.630813</td>\n",
              "      <td>0.766013</td>\n",
              "      <td>0.866796</td>\n",
              "      <td>0.230710</td>\n",
              "      <td>-0.222162</td>\n",
              "      <td>...</td>\n",
              "      <td>0.360707</td>\n",
              "      <td>1.000000</td>\n",
              "      <td>0.978750</td>\n",
              "      <td>0.261585</td>\n",
              "      <td>0.610671</td>\n",
              "      <td>0.681695</td>\n",
              "      <td>0.839621</td>\n",
              "      <td>0.285678</td>\n",
              "      <td>0.165592</td>\n",
              "      <td>0.795235</td>\n",
              "    </tr>\n",
              "    <tr>\n",
              "      <th>area_worst</th>\n",
              "      <td>0.940654</td>\n",
              "      <td>0.338350</td>\n",
              "      <td>0.940882</td>\n",
              "      <td>0.959219</td>\n",
              "      <td>0.232186</td>\n",
              "      <td>0.553100</td>\n",
              "      <td>0.715505</td>\n",
              "      <td>0.822747</td>\n",
              "      <td>0.194434</td>\n",
              "      <td>-0.243990</td>\n",
              "      <td>...</td>\n",
              "      <td>0.352368</td>\n",
              "      <td>0.978750</td>\n",
              "      <td>1.000000</td>\n",
              "      <td>0.239612</td>\n",
              "      <td>0.522706</td>\n",
              "      <td>0.612463</td>\n",
              "      <td>0.775549</td>\n",
              "      <td>0.234846</td>\n",
              "      <td>0.109776</td>\n",
              "      <td>0.750902</td>\n",
              "    </tr>\n",
              "    <tr>\n",
              "      <th>smoothness_worst</th>\n",
              "      <td>0.155330</td>\n",
              "      <td>0.049257</td>\n",
              "      <td>0.181316</td>\n",
              "      <td>0.159678</td>\n",
              "      <td>0.795326</td>\n",
              "      <td>0.514686</td>\n",
              "      <td>0.422628</td>\n",
              "      <td>0.444060</td>\n",
              "      <td>0.380276</td>\n",
              "      <td>0.428520</td>\n",
              "      <td>...</td>\n",
              "      <td>0.189452</td>\n",
              "      <td>0.261585</td>\n",
              "      <td>0.239612</td>\n",
              "      <td>1.000000</td>\n",
              "      <td>0.518423</td>\n",
              "      <td>0.478192</td>\n",
              "      <td>0.526532</td>\n",
              "      <td>0.450858</td>\n",
              "      <td>0.574391</td>\n",
              "      <td>0.396895</td>\n",
              "    </tr>\n",
              "    <tr>\n",
              "      <th>compactness_worst</th>\n",
              "      <td>0.506827</td>\n",
              "      <td>0.231196</td>\n",
              "      <td>0.545011</td>\n",
              "      <td>0.483900</td>\n",
              "      <td>0.444066</td>\n",
              "      <td>0.871486</td>\n",
              "      <td>0.783452</td>\n",
              "      <td>0.715165</td>\n",
              "      <td>0.428553</td>\n",
              "      <td>0.363297</td>\n",
              "      <td>...</td>\n",
              "      <td>0.288015</td>\n",
              "      <td>0.610671</td>\n",
              "      <td>0.522706</td>\n",
              "      <td>0.518423</td>\n",
              "      <td>1.000000</td>\n",
              "      <td>0.886931</td>\n",
              "      <td>0.825032</td>\n",
              "      <td>0.550418</td>\n",
              "      <td>0.743620</td>\n",
              "      <td>0.595200</td>\n",
              "    </tr>\n",
              "    <tr>\n",
              "      <th>concavity_worst</th>\n",
              "      <td>0.606959</td>\n",
              "      <td>0.265386</td>\n",
              "      <td>0.638758</td>\n",
              "      <td>0.592726</td>\n",
              "      <td>0.409586</td>\n",
              "      <td>0.810946</td>\n",
              "      <td>0.894876</td>\n",
              "      <td>0.785752</td>\n",
              "      <td>0.382730</td>\n",
              "      <td>0.233518</td>\n",
              "      <td>...</td>\n",
              "      <td>0.313304</td>\n",
              "      <td>0.681695</td>\n",
              "      <td>0.612463</td>\n",
              "      <td>0.478192</td>\n",
              "      <td>0.886931</td>\n",
              "      <td>1.000000</td>\n",
              "      <td>0.870370</td>\n",
              "      <td>0.480268</td>\n",
              "      <td>0.602013</td>\n",
              "      <td>0.669092</td>\n",
              "    </tr>\n",
              "    <tr>\n",
              "      <th>concave points_worst</th>\n",
              "      <td>0.779072</td>\n",
              "      <td>0.266491</td>\n",
              "      <td>0.801435</td>\n",
              "      <td>0.757169</td>\n",
              "      <td>0.487701</td>\n",
              "      <td>0.809436</td>\n",
              "      <td>0.864190</td>\n",
              "      <td>0.913796</td>\n",
              "      <td>0.398413</td>\n",
              "      <td>0.097265</td>\n",
              "      <td>...</td>\n",
              "      <td>0.325094</td>\n",
              "      <td>0.839621</td>\n",
              "      <td>0.775549</td>\n",
              "      <td>0.526532</td>\n",
              "      <td>0.825032</td>\n",
              "      <td>0.870370</td>\n",
              "      <td>1.000000</td>\n",
              "      <td>0.469138</td>\n",
              "      <td>0.483802</td>\n",
              "      <td>0.787152</td>\n",
              "    </tr>\n",
              "    <tr>\n",
              "      <th>symmetry_worst</th>\n",
              "      <td>0.193134</td>\n",
              "      <td>0.062780</td>\n",
              "      <td>0.213134</td>\n",
              "      <td>0.173456</td>\n",
              "      <td>0.348302</td>\n",
              "      <td>0.451420</td>\n",
              "      <td>0.373278</td>\n",
              "      <td>0.357073</td>\n",
              "      <td>0.683465</td>\n",
              "      <td>0.242146</td>\n",
              "      <td>...</td>\n",
              "      <td>0.180970</td>\n",
              "      <td>0.285678</td>\n",
              "      <td>0.234846</td>\n",
              "      <td>0.450858</td>\n",
              "      <td>0.550418</td>\n",
              "      <td>0.480268</td>\n",
              "      <td>0.469138</td>\n",
              "      <td>1.000000</td>\n",
              "      <td>0.464924</td>\n",
              "      <td>0.386130</td>\n",
              "    </tr>\n",
              "    <tr>\n",
              "      <th>fractal_dimension_worst</th>\n",
              "      <td>0.039534</td>\n",
              "      <td>0.055577</td>\n",
              "      <td>0.080268</td>\n",
              "      <td>0.037802</td>\n",
              "      <td>0.462506</td>\n",
              "      <td>0.646768</td>\n",
              "      <td>0.473747</td>\n",
              "      <td>0.362561</td>\n",
              "      <td>0.378974</td>\n",
              "      <td>0.743055</td>\n",
              "      <td>...</td>\n",
              "      <td>0.130896</td>\n",
              "      <td>0.165592</td>\n",
              "      <td>0.109776</td>\n",
              "      <td>0.574391</td>\n",
              "      <td>0.743620</td>\n",
              "      <td>0.602013</td>\n",
              "      <td>0.483802</td>\n",
              "      <td>0.464924</td>\n",
              "      <td>1.000000</td>\n",
              "      <td>0.280785</td>\n",
              "    </tr>\n",
              "    <tr>\n",
              "      <th>diagnosis</th>\n",
              "      <td>0.752404</td>\n",
              "      <td>0.396709</td>\n",
              "      <td>0.761096</td>\n",
              "      <td>0.732541</td>\n",
              "      <td>0.341699</td>\n",
              "      <td>0.588102</td>\n",
              "      <td>0.704118</td>\n",
              "      <td>0.776519</td>\n",
              "      <td>0.309813</td>\n",
              "      <td>-0.080401</td>\n",
              "      <td>...</td>\n",
              "      <td>0.432413</td>\n",
              "      <td>0.795235</td>\n",
              "      <td>0.750902</td>\n",
              "      <td>0.396895</td>\n",
              "      <td>0.595200</td>\n",
              "      <td>0.669092</td>\n",
              "      <td>0.787152</td>\n",
              "      <td>0.386130</td>\n",
              "      <td>0.280785</td>\n",
              "      <td>1.000000</td>\n",
              "    </tr>\n",
              "  </tbody>\n",
              "</table>\n",
              "<p>31 rows × 31 columns</p>\n",
              "</div>\n",
              "      <button class=\"colab-df-convert\" onclick=\"convertToInteractive('df-0fb7c540-06b8-4bc1-a7b9-d31c14276c64')\"\n",
              "              title=\"Convert this dataframe to an interactive table.\"\n",
              "              style=\"display:none;\">\n",
              "        \n",
              "  <svg xmlns=\"http://www.w3.org/2000/svg\" height=\"24px\"viewBox=\"0 0 24 24\"\n",
              "       width=\"24px\">\n",
              "    <path d=\"M0 0h24v24H0V0z\" fill=\"none\"/>\n",
              "    <path d=\"M18.56 5.44l.94 2.06.94-2.06 2.06-.94-2.06-.94-.94-2.06-.94 2.06-2.06.94zm-11 1L8.5 8.5l.94-2.06 2.06-.94-2.06-.94L8.5 2.5l-.94 2.06-2.06.94zm10 10l.94 2.06.94-2.06 2.06-.94-2.06-.94-.94-2.06-.94 2.06-2.06.94z\"/><path d=\"M17.41 7.96l-1.37-1.37c-.4-.4-.92-.59-1.43-.59-.52 0-1.04.2-1.43.59L10.3 9.45l-7.72 7.72c-.78.78-.78 2.05 0 2.83L4 21.41c.39.39.9.59 1.41.59.51 0 1.02-.2 1.41-.59l7.78-7.78 2.81-2.81c.8-.78.8-2.07 0-2.86zM5.41 20L4 18.59l7.72-7.72 1.47 1.35L5.41 20z\"/>\n",
              "  </svg>\n",
              "      </button>\n",
              "      \n",
              "  <style>\n",
              "    .colab-df-container {\n",
              "      display:flex;\n",
              "      flex-wrap:wrap;\n",
              "      gap: 12px;\n",
              "    }\n",
              "\n",
              "    .colab-df-convert {\n",
              "      background-color: #E8F0FE;\n",
              "      border: none;\n",
              "      border-radius: 50%;\n",
              "      cursor: pointer;\n",
              "      display: none;\n",
              "      fill: #1967D2;\n",
              "      height: 32px;\n",
              "      padding: 0 0 0 0;\n",
              "      width: 32px;\n",
              "    }\n",
              "\n",
              "    .colab-df-convert:hover {\n",
              "      background-color: #E2EBFA;\n",
              "      box-shadow: 0px 1px 2px rgba(60, 64, 67, 0.3), 0px 1px 3px 1px rgba(60, 64, 67, 0.15);\n",
              "      fill: #174EA6;\n",
              "    }\n",
              "\n",
              "    [theme=dark] .colab-df-convert {\n",
              "      background-color: #3B4455;\n",
              "      fill: #D2E3FC;\n",
              "    }\n",
              "\n",
              "    [theme=dark] .colab-df-convert:hover {\n",
              "      background-color: #434B5C;\n",
              "      box-shadow: 0px 1px 3px 1px rgba(0, 0, 0, 0.15);\n",
              "      filter: drop-shadow(0px 1px 2px rgba(0, 0, 0, 0.3));\n",
              "      fill: #FFFFFF;\n",
              "    }\n",
              "  </style>\n",
              "\n",
              "      <script>\n",
              "        const buttonEl =\n",
              "          document.querySelector('#df-0fb7c540-06b8-4bc1-a7b9-d31c14276c64 button.colab-df-convert');\n",
              "        buttonEl.style.display =\n",
              "          google.colab.kernel.accessAllowed ? 'block' : 'none';\n",
              "\n",
              "        async function convertToInteractive(key) {\n",
              "          const element = document.querySelector('#df-0fb7c540-06b8-4bc1-a7b9-d31c14276c64');\n",
              "          const dataTable =\n",
              "            await google.colab.kernel.invokeFunction('convertToInteractive',\n",
              "                                                     [key], {});\n",
              "          if (!dataTable) return;\n",
              "\n",
              "          const docLinkHtml = 'Like what you see? Visit the ' +\n",
              "            '<a target=\"_blank\" href=https://colab.research.google.com/notebooks/data_table.ipynb>data table notebook</a>'\n",
              "            + ' to learn more about interactive tables.';\n",
              "          element.innerHTML = '';\n",
              "          dataTable['output_type'] = 'display_data';\n",
              "          await google.colab.output.renderOutput(dataTable, element);\n",
              "          const docLink = document.createElement('div');\n",
              "          docLink.innerHTML = docLinkHtml;\n",
              "          element.appendChild(docLink);\n",
              "        }\n",
              "      </script>\n",
              "    </div>\n",
              "  </div>\n",
              "  "
            ]
          },
          "metadata": {},
          "execution_count": 61
        }
      ]
    },
    {
      "cell_type": "markdown",
      "source": [
        "\n",
        "\n",
        "```\n",
        "                         fractal_dimension_worst  diagnosis  \n",
        "radius_mean                             0.039534   0.752404  \n",
        "texture_mean                            0.055577   0.396709  \n",
        "perimeter_mean                          0.080268   0.761096  \n",
        "area_mean                               0.037802   0.732541  \n",
        "smoothness_mean                         0.462506   0.341699  \n",
        "compactness_mean                        0.646768   0.588102  \n",
        "concavity_mean                          0.473747   0.704118  \n",
        "concave points_mean                     0.362561   0.776519  \n",
        "symmetry_mean                           0.378974   0.309813  \n",
        "fractal_dimension_mean                            -0.080401  \n",
        "radius_se                               0.069424   0.589593  \n",
        "texture_se                                         0.000710  \n",
        "perimeter_se                            0.120295   0.576558  \n",
        "area_se                                 0.041096   0.566620  \n",
        "smoothness_se                                     -0.053354  \n",
        "compactness_se                          0.531517   0.276611  \n",
        "concavity_se                            0.434518   0.301409  \n",
        "concave points_se                       0.314808   0.435887  \n",
        "symmetry_se                                       -0.007631  \n",
        "fractal_dimension_se                               0.067308  \n",
        "radius_worst                            0.118121   0.791493  \n",
        "texture_worst                           0.130896   0.432413  \n",
        "perimeter_worst                         0.165592   0.795235  \n",
        "area_worst                              0.109776   0.750902  \n",
        "smoothness_worst                        0.574391   0.396895  \n",
        "compactness_worst                       0.743620   0.595200  \n",
        "concavity_worst                         0.602013   0.669092  \n",
        "concave points_worst                    0.483802   0.787152  \n",
        "symmetry_worst                          0.464924   0.386130  \n",
        "fractal_dimension_worst                            0.280785  \n",
        "diagnosis                               0.280785   1.000000  \n",
        "```\n",
        "\n"
      ],
      "metadata": {
        "id": "RnYw9du_cxD4"
      }
    },
    {
      "cell_type": "code",
      "source": [
        "from sklearn.model_selection import train_test_split\n",
        "X_train, X_test, y_train, y_test = train_test_split(X_df, y_df, test_size=0.3, random_state=42)"
      ],
      "metadata": {
        "id": "LLE0_jdNXkv1"
      },
      "execution_count": null,
      "outputs": []
    },
    {
      "cell_type": "code",
      "source": [
        "!pip install lazypredict"
      ],
      "metadata": {
        "colab": {
          "base_uri": "https://localhost:8080/"
        },
        "id": "dT1Y65RJYz_s",
        "outputId": "f2b532f4-1623-4063-9f4e-5a1f71e69047"
      },
      "execution_count": null,
      "outputs": [
        {
          "output_type": "stream",
          "name": "stdout",
          "text": [
            "Looking in indexes: https://pypi.org/simple, https://us-python.pkg.dev/colab-wheels/public/simple/\n",
            "Collecting lazypredict\n",
            "  Downloading lazypredict-0.2.12-py2.py3-none-any.whl (12 kB)\n",
            "Requirement already satisfied: lightgbm in /usr/local/lib/python3.8/dist-packages (from lazypredict) (2.2.3)\n",
            "Requirement already satisfied: pandas in /usr/local/lib/python3.8/dist-packages (from lazypredict) (1.3.5)\n",
            "Requirement already satisfied: click in /usr/local/lib/python3.8/dist-packages (from lazypredict) (7.1.2)\n",
            "Requirement already satisfied: xgboost in /usr/local/lib/python3.8/dist-packages (from lazypredict) (0.90)\n",
            "Requirement already satisfied: scikit-learn in /usr/local/lib/python3.8/dist-packages (from lazypredict) (1.0.2)\n",
            "Requirement already satisfied: joblib in /usr/local/lib/python3.8/dist-packages (from lazypredict) (1.2.0)\n",
            "Requirement already satisfied: tqdm in /usr/local/lib/python3.8/dist-packages (from lazypredict) (4.64.1)\n",
            "Requirement already satisfied: numpy in /usr/local/lib/python3.8/dist-packages (from lightgbm->lazypredict) (1.21.6)\n",
            "Requirement already satisfied: scipy in /usr/local/lib/python3.8/dist-packages (from lightgbm->lazypredict) (1.7.3)\n",
            "Requirement already satisfied: pytz>=2017.3 in /usr/local/lib/python3.8/dist-packages (from pandas->lazypredict) (2022.6)\n",
            "Requirement already satisfied: python-dateutil>=2.7.3 in /usr/local/lib/python3.8/dist-packages (from pandas->lazypredict) (2.8.2)\n",
            "Requirement already satisfied: six>=1.5 in /usr/local/lib/python3.8/dist-packages (from python-dateutil>=2.7.3->pandas->lazypredict) (1.15.0)\n",
            "Requirement already satisfied: threadpoolctl>=2.0.0 in /usr/local/lib/python3.8/dist-packages (from scikit-learn->lazypredict) (3.1.0)\n",
            "Installing collected packages: lazypredict\n",
            "Successfully installed lazypredict-0.2.12\n"
          ]
        }
      ]
    },
    {
      "cell_type": "code",
      "source": [
        "import lazypredict \n",
        "from lazypredict.Supervised import LazyClassifier\n",
        "clf = LazyClassifier(verbose=0,ignore_warnings=True)\n",
        "models, predictions = clf.fit(X_train, X_test, y_train, y_test)\n",
        "models"
      ],
      "metadata": {
        "colab": {
          "base_uri": "https://localhost:8080/",
          "height": 945
        },
        "id": "frL2Wdg6kviu",
        "outputId": "b89e872d-262f-44ea-9ec2-56449b535eed"
      },
      "execution_count": null,
      "outputs": [
        {
          "output_type": "stream",
          "name": "stderr",
          "text": [
            "100%|██████████| 29/29 [00:01<00:00, 15.82it/s]\n"
          ]
        },
        {
          "output_type": "execute_result",
          "data": {
            "text/plain": [
              "                               Accuracy  Balanced Accuracy  ROC AUC  F1 Score  \\\n",
              "Model                                                                           \n",
              "LogisticRegression                 0.99               0.99     0.99      0.99   \n",
              "PassiveAggressiveClassifier        0.98               0.97     0.97      0.98   \n",
              "Perceptron                         0.97               0.97     0.97      0.97   \n",
              "LinearSVC                          0.97               0.97     0.97      0.97   \n",
              "SGDClassifier                      0.96               0.97     0.97      0.96   \n",
              "AdaBoostClassifier                 0.97               0.96     0.96      0.97   \n",
              "XGBClassifier                      0.96               0.95     0.95      0.96   \n",
              "ExtraTreesClassifier               0.96               0.95     0.95      0.96   \n",
              "CalibratedClassifierCV             0.96               0.95     0.95      0.96   \n",
              "SVC                                0.96               0.95     0.95      0.96   \n",
              "RidgeClassifier                    0.96               0.95     0.95      0.96   \n",
              "LGBMClassifier                     0.96               0.95     0.95      0.96   \n",
              "RandomForestClassifier             0.95               0.94     0.94      0.95   \n",
              "QuadraticDiscriminantAnalysis      0.94               0.93     0.93      0.94   \n",
              "RidgeClassifierCV                  0.94               0.93     0.93      0.94   \n",
              "DecisionTreeClassifier             0.93               0.92     0.92      0.93   \n",
              "LinearDiscriminantAnalysis         0.94               0.92     0.92      0.94   \n",
              "KNeighborsClassifier               0.94               0.92     0.92      0.94   \n",
              "BaggingClassifier                  0.93               0.91     0.91      0.93   \n",
              "BernoulliNB                        0.91               0.91     0.91      0.91   \n",
              "LabelSpreading                     0.92               0.91     0.91      0.92   \n",
              "LabelPropagation                   0.92               0.91     0.91      0.92   \n",
              "GaussianNB                         0.91               0.91     0.91      0.91   \n",
              "NuSVC                              0.93               0.91     0.91      0.93   \n",
              "NearestCentroid                    0.91               0.90     0.90      0.91   \n",
              "ExtraTreeClassifier                0.90               0.89     0.89      0.90   \n",
              "DummyClassifier                    0.64               0.50     0.50      0.50   \n",
              "\n",
              "                               Time Taken  \n",
              "Model                                      \n",
              "LogisticRegression                   0.06  \n",
              "PassiveAggressiveClassifier          0.03  \n",
              "Perceptron                           0.02  \n",
              "LinearSVC                            0.04  \n",
              "SGDClassifier                        0.05  \n",
              "AdaBoostClassifier                   0.18  \n",
              "XGBClassifier                        0.21  \n",
              "ExtraTreesClassifier                 0.15  \n",
              "CalibratedClassifierCV               0.08  \n",
              "SVC                                  0.05  \n",
              "RidgeClassifier                      0.02  \n",
              "LGBMClassifier                       0.16  \n",
              "RandomForestClassifier               0.22  \n",
              "QuadraticDiscriminantAnalysis        0.04  \n",
              "RidgeClassifierCV                    0.05  \n",
              "DecisionTreeClassifier               0.02  \n",
              "LinearDiscriminantAnalysis           0.09  \n",
              "KNeighborsClassifier                 0.03  \n",
              "BaggingClassifier                    0.07  \n",
              "BernoulliNB                          0.02  \n",
              "LabelSpreading                       0.04  \n",
              "LabelPropagation                     0.05  \n",
              "GaussianNB                           0.02  \n",
              "NuSVC                                0.04  \n",
              "NearestCentroid                      0.02  \n",
              "ExtraTreeClassifier                  0.02  \n",
              "DummyClassifier                      0.01  "
            ],
            "text/html": [
              "\n",
              "  <div id=\"df-44f6c6b7-3f79-4c1a-8d96-ed58b1534b0b\">\n",
              "    <div class=\"colab-df-container\">\n",
              "      <div>\n",
              "<style scoped>\n",
              "    .dataframe tbody tr th:only-of-type {\n",
              "        vertical-align: middle;\n",
              "    }\n",
              "\n",
              "    .dataframe tbody tr th {\n",
              "        vertical-align: top;\n",
              "    }\n",
              "\n",
              "    .dataframe thead th {\n",
              "        text-align: right;\n",
              "    }\n",
              "</style>\n",
              "<table border=\"1\" class=\"dataframe\">\n",
              "  <thead>\n",
              "    <tr style=\"text-align: right;\">\n",
              "      <th></th>\n",
              "      <th>Accuracy</th>\n",
              "      <th>Balanced Accuracy</th>\n",
              "      <th>ROC AUC</th>\n",
              "      <th>F1 Score</th>\n",
              "      <th>Time Taken</th>\n",
              "    </tr>\n",
              "    <tr>\n",
              "      <th>Model</th>\n",
              "      <th></th>\n",
              "      <th></th>\n",
              "      <th></th>\n",
              "      <th></th>\n",
              "      <th></th>\n",
              "    </tr>\n",
              "  </thead>\n",
              "  <tbody>\n",
              "    <tr>\n",
              "      <th>LogisticRegression</th>\n",
              "      <td>0.99</td>\n",
              "      <td>0.99</td>\n",
              "      <td>0.99</td>\n",
              "      <td>0.99</td>\n",
              "      <td>0.06</td>\n",
              "    </tr>\n",
              "    <tr>\n",
              "      <th>PassiveAggressiveClassifier</th>\n",
              "      <td>0.98</td>\n",
              "      <td>0.97</td>\n",
              "      <td>0.97</td>\n",
              "      <td>0.98</td>\n",
              "      <td>0.03</td>\n",
              "    </tr>\n",
              "    <tr>\n",
              "      <th>Perceptron</th>\n",
              "      <td>0.97</td>\n",
              "      <td>0.97</td>\n",
              "      <td>0.97</td>\n",
              "      <td>0.97</td>\n",
              "      <td>0.02</td>\n",
              "    </tr>\n",
              "    <tr>\n",
              "      <th>LinearSVC</th>\n",
              "      <td>0.97</td>\n",
              "      <td>0.97</td>\n",
              "      <td>0.97</td>\n",
              "      <td>0.97</td>\n",
              "      <td>0.04</td>\n",
              "    </tr>\n",
              "    <tr>\n",
              "      <th>SGDClassifier</th>\n",
              "      <td>0.96</td>\n",
              "      <td>0.97</td>\n",
              "      <td>0.97</td>\n",
              "      <td>0.96</td>\n",
              "      <td>0.05</td>\n",
              "    </tr>\n",
              "    <tr>\n",
              "      <th>AdaBoostClassifier</th>\n",
              "      <td>0.97</td>\n",
              "      <td>0.96</td>\n",
              "      <td>0.96</td>\n",
              "      <td>0.97</td>\n",
              "      <td>0.18</td>\n",
              "    </tr>\n",
              "    <tr>\n",
              "      <th>XGBClassifier</th>\n",
              "      <td>0.96</td>\n",
              "      <td>0.95</td>\n",
              "      <td>0.95</td>\n",
              "      <td>0.96</td>\n",
              "      <td>0.21</td>\n",
              "    </tr>\n",
              "    <tr>\n",
              "      <th>ExtraTreesClassifier</th>\n",
              "      <td>0.96</td>\n",
              "      <td>0.95</td>\n",
              "      <td>0.95</td>\n",
              "      <td>0.96</td>\n",
              "      <td>0.15</td>\n",
              "    </tr>\n",
              "    <tr>\n",
              "      <th>CalibratedClassifierCV</th>\n",
              "      <td>0.96</td>\n",
              "      <td>0.95</td>\n",
              "      <td>0.95</td>\n",
              "      <td>0.96</td>\n",
              "      <td>0.08</td>\n",
              "    </tr>\n",
              "    <tr>\n",
              "      <th>SVC</th>\n",
              "      <td>0.96</td>\n",
              "      <td>0.95</td>\n",
              "      <td>0.95</td>\n",
              "      <td>0.96</td>\n",
              "      <td>0.05</td>\n",
              "    </tr>\n",
              "    <tr>\n",
              "      <th>RidgeClassifier</th>\n",
              "      <td>0.96</td>\n",
              "      <td>0.95</td>\n",
              "      <td>0.95</td>\n",
              "      <td>0.96</td>\n",
              "      <td>0.02</td>\n",
              "    </tr>\n",
              "    <tr>\n",
              "      <th>LGBMClassifier</th>\n",
              "      <td>0.96</td>\n",
              "      <td>0.95</td>\n",
              "      <td>0.95</td>\n",
              "      <td>0.96</td>\n",
              "      <td>0.16</td>\n",
              "    </tr>\n",
              "    <tr>\n",
              "      <th>RandomForestClassifier</th>\n",
              "      <td>0.95</td>\n",
              "      <td>0.94</td>\n",
              "      <td>0.94</td>\n",
              "      <td>0.95</td>\n",
              "      <td>0.22</td>\n",
              "    </tr>\n",
              "    <tr>\n",
              "      <th>QuadraticDiscriminantAnalysis</th>\n",
              "      <td>0.94</td>\n",
              "      <td>0.93</td>\n",
              "      <td>0.93</td>\n",
              "      <td>0.94</td>\n",
              "      <td>0.04</td>\n",
              "    </tr>\n",
              "    <tr>\n",
              "      <th>RidgeClassifierCV</th>\n",
              "      <td>0.94</td>\n",
              "      <td>0.93</td>\n",
              "      <td>0.93</td>\n",
              "      <td>0.94</td>\n",
              "      <td>0.05</td>\n",
              "    </tr>\n",
              "    <tr>\n",
              "      <th>DecisionTreeClassifier</th>\n",
              "      <td>0.93</td>\n",
              "      <td>0.92</td>\n",
              "      <td>0.92</td>\n",
              "      <td>0.93</td>\n",
              "      <td>0.02</td>\n",
              "    </tr>\n",
              "    <tr>\n",
              "      <th>LinearDiscriminantAnalysis</th>\n",
              "      <td>0.94</td>\n",
              "      <td>0.92</td>\n",
              "      <td>0.92</td>\n",
              "      <td>0.94</td>\n",
              "      <td>0.09</td>\n",
              "    </tr>\n",
              "    <tr>\n",
              "      <th>KNeighborsClassifier</th>\n",
              "      <td>0.94</td>\n",
              "      <td>0.92</td>\n",
              "      <td>0.92</td>\n",
              "      <td>0.94</td>\n",
              "      <td>0.03</td>\n",
              "    </tr>\n",
              "    <tr>\n",
              "      <th>BaggingClassifier</th>\n",
              "      <td>0.93</td>\n",
              "      <td>0.91</td>\n",
              "      <td>0.91</td>\n",
              "      <td>0.93</td>\n",
              "      <td>0.07</td>\n",
              "    </tr>\n",
              "    <tr>\n",
              "      <th>BernoulliNB</th>\n",
              "      <td>0.91</td>\n",
              "      <td>0.91</td>\n",
              "      <td>0.91</td>\n",
              "      <td>0.91</td>\n",
              "      <td>0.02</td>\n",
              "    </tr>\n",
              "    <tr>\n",
              "      <th>LabelSpreading</th>\n",
              "      <td>0.92</td>\n",
              "      <td>0.91</td>\n",
              "      <td>0.91</td>\n",
              "      <td>0.92</td>\n",
              "      <td>0.04</td>\n",
              "    </tr>\n",
              "    <tr>\n",
              "      <th>LabelPropagation</th>\n",
              "      <td>0.92</td>\n",
              "      <td>0.91</td>\n",
              "      <td>0.91</td>\n",
              "      <td>0.92</td>\n",
              "      <td>0.05</td>\n",
              "    </tr>\n",
              "    <tr>\n",
              "      <th>GaussianNB</th>\n",
              "      <td>0.91</td>\n",
              "      <td>0.91</td>\n",
              "      <td>0.91</td>\n",
              "      <td>0.91</td>\n",
              "      <td>0.02</td>\n",
              "    </tr>\n",
              "    <tr>\n",
              "      <th>NuSVC</th>\n",
              "      <td>0.93</td>\n",
              "      <td>0.91</td>\n",
              "      <td>0.91</td>\n",
              "      <td>0.93</td>\n",
              "      <td>0.04</td>\n",
              "    </tr>\n",
              "    <tr>\n",
              "      <th>NearestCentroid</th>\n",
              "      <td>0.91</td>\n",
              "      <td>0.90</td>\n",
              "      <td>0.90</td>\n",
              "      <td>0.91</td>\n",
              "      <td>0.02</td>\n",
              "    </tr>\n",
              "    <tr>\n",
              "      <th>ExtraTreeClassifier</th>\n",
              "      <td>0.90</td>\n",
              "      <td>0.89</td>\n",
              "      <td>0.89</td>\n",
              "      <td>0.90</td>\n",
              "      <td>0.02</td>\n",
              "    </tr>\n",
              "    <tr>\n",
              "      <th>DummyClassifier</th>\n",
              "      <td>0.64</td>\n",
              "      <td>0.50</td>\n",
              "      <td>0.50</td>\n",
              "      <td>0.50</td>\n",
              "      <td>0.01</td>\n",
              "    </tr>\n",
              "  </tbody>\n",
              "</table>\n",
              "</div>\n",
              "      <button class=\"colab-df-convert\" onclick=\"convertToInteractive('df-44f6c6b7-3f79-4c1a-8d96-ed58b1534b0b')\"\n",
              "              title=\"Convert this dataframe to an interactive table.\"\n",
              "              style=\"display:none;\">\n",
              "        \n",
              "  <svg xmlns=\"http://www.w3.org/2000/svg\" height=\"24px\"viewBox=\"0 0 24 24\"\n",
              "       width=\"24px\">\n",
              "    <path d=\"M0 0h24v24H0V0z\" fill=\"none\"/>\n",
              "    <path d=\"M18.56 5.44l.94 2.06.94-2.06 2.06-.94-2.06-.94-.94-2.06-.94 2.06-2.06.94zm-11 1L8.5 8.5l.94-2.06 2.06-.94-2.06-.94L8.5 2.5l-.94 2.06-2.06.94zm10 10l.94 2.06.94-2.06 2.06-.94-2.06-.94-.94-2.06-.94 2.06-2.06.94z\"/><path d=\"M17.41 7.96l-1.37-1.37c-.4-.4-.92-.59-1.43-.59-.52 0-1.04.2-1.43.59L10.3 9.45l-7.72 7.72c-.78.78-.78 2.05 0 2.83L4 21.41c.39.39.9.59 1.41.59.51 0 1.02-.2 1.41-.59l7.78-7.78 2.81-2.81c.8-.78.8-2.07 0-2.86zM5.41 20L4 18.59l7.72-7.72 1.47 1.35L5.41 20z\"/>\n",
              "  </svg>\n",
              "      </button>\n",
              "      \n",
              "  <style>\n",
              "    .colab-df-container {\n",
              "      display:flex;\n",
              "      flex-wrap:wrap;\n",
              "      gap: 12px;\n",
              "    }\n",
              "\n",
              "    .colab-df-convert {\n",
              "      background-color: #E8F0FE;\n",
              "      border: none;\n",
              "      border-radius: 50%;\n",
              "      cursor: pointer;\n",
              "      display: none;\n",
              "      fill: #1967D2;\n",
              "      height: 32px;\n",
              "      padding: 0 0 0 0;\n",
              "      width: 32px;\n",
              "    }\n",
              "\n",
              "    .colab-df-convert:hover {\n",
              "      background-color: #E2EBFA;\n",
              "      box-shadow: 0px 1px 2px rgba(60, 64, 67, 0.3), 0px 1px 3px 1px rgba(60, 64, 67, 0.15);\n",
              "      fill: #174EA6;\n",
              "    }\n",
              "\n",
              "    [theme=dark] .colab-df-convert {\n",
              "      background-color: #3B4455;\n",
              "      fill: #D2E3FC;\n",
              "    }\n",
              "\n",
              "    [theme=dark] .colab-df-convert:hover {\n",
              "      background-color: #434B5C;\n",
              "      box-shadow: 0px 1px 3px 1px rgba(0, 0, 0, 0.15);\n",
              "      filter: drop-shadow(0px 1px 2px rgba(0, 0, 0, 0.3));\n",
              "      fill: #FFFFFF;\n",
              "    }\n",
              "  </style>\n",
              "\n",
              "      <script>\n",
              "        const buttonEl =\n",
              "          document.querySelector('#df-44f6c6b7-3f79-4c1a-8d96-ed58b1534b0b button.colab-df-convert');\n",
              "        buttonEl.style.display =\n",
              "          google.colab.kernel.accessAllowed ? 'block' : 'none';\n",
              "\n",
              "        async function convertToInteractive(key) {\n",
              "          const element = document.querySelector('#df-44f6c6b7-3f79-4c1a-8d96-ed58b1534b0b');\n",
              "          const dataTable =\n",
              "            await google.colab.kernel.invokeFunction('convertToInteractive',\n",
              "                                                     [key], {});\n",
              "          if (!dataTable) return;\n",
              "\n",
              "          const docLinkHtml = 'Like what you see? Visit the ' +\n",
              "            '<a target=\"_blank\" href=https://colab.research.google.com/notebooks/data_table.ipynb>data table notebook</a>'\n",
              "            + ' to learn more about interactive tables.';\n",
              "          element.innerHTML = '';\n",
              "          dataTable['output_type'] = 'display_data';\n",
              "          await google.colab.output.renderOutput(dataTable, element);\n",
              "          const docLink = document.createElement('div');\n",
              "          docLink.innerHTML = docLinkHtml;\n",
              "          element.appendChild(docLink);\n",
              "        }\n",
              "      </script>\n",
              "    </div>\n",
              "  </div>\n",
              "  "
            ]
          },
          "metadata": {},
          "execution_count": 66
        }
      ]
    },
    {
      "cell_type": "code",
      "source": [
        "from sklearn.svm import SVC\n",
        "# Fitting the SVM \n",
        "clf = SVC(kernel='linear')\n",
        "clf.fit(X_train, y_train)\n",
        "y_test_predict = clf.predict(X_test)\n",
        "\n",
        "print(classification_report(y_test,y_test_predict))\n",
        "\n",
        "# Based on the below Code I am removing less important features and will use only most important features\n",
        "mylist = clf.coef_.tolist()\n",
        "\n",
        "mylist = clf.coef_.tolist()\n",
        "pyplot.bar([x for x in range(len(mylist[0]))],  [mylist[0][i] for i in range(len(mylist[0]))])\n",
        "pyplot.show()"
      ],
      "metadata": {
        "colab": {
          "base_uri": "https://localhost:8080/",
          "height": 427
        },
        "id": "0hF_-q1VZt0w",
        "outputId": "85c619dc-3397-4b32-bfba-8472c91b34d3"
      },
      "execution_count": null,
      "outputs": [
        {
          "output_type": "stream",
          "name": "stdout",
          "text": [
            "              precision    recall  f1-score   support\n",
            "\n",
            "           0       0.94      0.98      0.96       104\n",
            "           1       0.96      0.90      0.93        59\n",
            "\n",
            "    accuracy                           0.95       163\n",
            "   macro avg       0.95      0.94      0.95       163\n",
            "weighted avg       0.95      0.95      0.95       163\n",
            "\n"
          ]
        },
        {
          "output_type": "display_data",
          "data": {
            "text/plain": [
              "<Figure size 432x288 with 1 Axes>"
            ],
            "image/png": "[encoded data removed]"
          },
          "metadata": {
            "needs_background": "light"
          }
        }
      ]
    },
    {
      "cell_type": "code",
      "source": [
        "for x in range(len(mylist[0])):\n",
        "  print(x, ' : ', mylist[0][x])"
      ],
      "metadata": {
        "id": "SPLOhdvwnYL_"
      },
      "execution_count": null,
      "outputs": []
    },
    {
      "cell_type": "code",
      "source": [
        "\n",
        "\n",
        "```\n",
        "#This is for reference, Below is for all the columns\n",
        "0  :  0.20994269078082223    'radius_mean'\n",
        "1  :  -0.07948367541638568   'texture_mean'\n",
        "2  :  0.25937692070477164    'perimeter_mean'\n",
        "3  :  0.27763651514846766    'area_mean'\n",
        "4  :  -0.06876432343868366   'smoothness_mean'\n",
        "5  :  0.21070735798473889    'compactness_mean'\n",
        "6  :  0.7394289528182729     'concavity_mean'\n",
        "7  :  0.43264811766811145    'concave points_mean'\n",
        "8  :  0.07631999562975622    'symmetry_mean'\n",
        "9  :  -0.5735429603981417    'fractal_dimension_mean'\n",
        "10  :  0.70243287365331      'radius_se'\n",
        "11  :  -0.3775430041704316   'texture_se'\n",
        "12  :  0.48479783567895474   'perimeter_se'\n",
        "13  :  0.5849457986411584    'area_se'\n",
        "14  :  0.09116822917464867   'smoothness_se'\n",
        "15  :  -0.2930434817056045   'compactness_se'\n",
        "16  :  -0.4325819569513074   'concavity_se'\n",
        "17  :  -0.50720668408004     'concave points_se'\n",
        "18  :  0.19250068101478102   'symmetry_se'\n",
        "19  :  -0.6071726810182068   'fractal_dimension_se'\n",
        "20  :  1.0041630033878124    'radius_worst'\n",
        "21  :  1.110169674045807     'texture_worst'\n",
        "22  :  1.005211940880383     'perimeter_worst'\n",
        "23  :  0.8985077298536528    'area_worst'\n",
        "24  :  0.7367200353353545    'smoothness_worst'\n",
        "25  :  0.25552448671897965   'compactness_worst'\n",
        "26  :  0.08420105013022683   'concavity_worst'\n",
        "27  :  0.15349129497791753   'concave points_worst'\n",
        "28  :  -0.4233505178801944   'symmetry_worst'\n",
        "29  :  0.9614556882709434    'fractal_dimension_worst'\n",
        "\n",
        "```\n",
        "Removing all columuns that has co efficents less than 25"
      ],
      "metadata": {
        "id": "cfG54N1Sn2wM"
      },
      "execution_count": null,
      "outputs": []
    },
    {
      "cell_type": "code",
      "source": [
        "x1=df[['radius_mean', 'perimeter_mean', 'area_mean',  'concave points_mean', 'radius_se', 'area_se', 'radius_worst', 'texture_worst', 'perimeter_worst', 'area_worst', 'smoothness_worst', 'compactness_worst']]\n",
        "y1=df[\"diagnosis\"]\n",
        "X_train, X_test, y_train, y_test = train_test_split(x1, y1, test_size=0.3, random_state=42)"
      ],
      "metadata": {
        "id": "1veIn7wMnxs8"
      },
      "execution_count": null,
      "outputs": []
    },
    {
      "cell_type": "code",
      "source": [
        "from sklearn.svm import SVC\n",
        "# Fitting the SVM \n",
        "clf = SVC(kernel='linear')\n",
        "clf.fit(X_train, y_train)\n",
        "y_test_predict = clf.predict(X_test)\n",
        "\n",
        "print(classification_report(y_test,y_test_predict))\n",
        "\n",
        "# Based on the below Code I am removing less important features and will use only most important features\n",
        "mylist = clf.coef_.tolist()\n",
        "\n",
        "mylist = clf.coef_.tolist()\n",
        "pyplot.bar([x for x in range(len(mylist[0]))],  [mylist[0][i] for i in range(len(mylist[0]))])\n",
        "pyplot.show()\n",
        "for x in range(len(mylist[0])):\n",
        "  print(x, ' : ', mylist[0][x])"
      ],
      "metadata": {
        "colab": {
          "base_uri": "https://localhost:8080/",
          "height": 965
        },
        "id": "KEUvuIbroLYQ",
        "outputId": "990b9a4c-ab4c-42f3-8c94-d1f76cd9f04e"
      },
      "execution_count": null,
      "outputs": [
        {
          "output_type": "stream",
          "name": "stdout",
          "text": [
            "              precision    recall  f1-score   support\n",
            "\n",
            "           0       0.94      0.98      0.96       104\n",
            "           1       0.96      0.90      0.93        59\n",
            "\n",
            "    accuracy                           0.95       163\n",
            "   macro avg       0.95      0.94      0.95       163\n",
            "weighted avg       0.95      0.95      0.95       163\n",
            "\n"
          ]
        },
        {
          "output_type": "display_data",
          "data": {
            "text/plain": [
              "<Figure size 432x288 with 1 Axes>"
            ],
            "image/png": "[encoded data removed]"
          },
          "metadata": {
            "needs_background": "light"
          }
        },
        {
          "output_type": "stream",
          "name": "stdout",
          "text": [
            "0  :  -1.1974276453759556\n",
            "1  :  -0.05688866630334921\n",
            "2  :  0.10073775529335194\n",
            "3  :  -0.002011920020237312\n",
            "4  :  0.20998959225359182\n",
            "5  :  0.24754082306936873\n",
            "6  :  0.45477964737714666\n",
            "7  :  0.258507345110872\n",
            "8  :  0.2620610153490722\n",
            "9  :  0.02778891079738425\n",
            "10  :  -5.872764399787733e-05\n",
            "11  :  -1.4081126390149112\n",
            "12  :  -0.449028793828762\n",
            "13  :  0.05761305375235537\n",
            "14  :  0.04078891924837788\n",
            "15  :  -0.007977106827566608\n",
            "16  :  0.0798177495854169\n",
            "17  :  0.03568480515609321\n",
            "18  :  0.059602830614911596\n",
            "19  :  -0.00752123322397735\n",
            "20  :  -0.347956308672015\n",
            "21  :  0.20438489689964\n",
            "22  :  0.1376669273943989\n",
            "23  :  0.004764793191100125\n",
            "24  :  0.3481178295968227\n",
            "25  :  0.7300094162666795\n",
            "26  :  1.032916641345298\n",
            "27  :  0.4140709823396953\n",
            "28  :  0.7007812478036346\n",
            "29  :  0.08436064126286494\n"
          ]
        }
      ]
    },
    {
      "cell_type": "code",
      "source": [
        "x1=df[[  'concave points_mean',  'area_se',  'texture_worst', 'perimeter_worst', 'area_worst', 'smoothness_worst', 'compactness_worst']]\n",
        "y1=df[\"diagnosis\"]\n",
        "# Removed Few Columns and seeing if this increases the accuracy"
      ],
      "metadata": {
        "id": "DciAZjaprshJ"
      },
      "execution_count": null,
      "outputs": []
    },
    {
      "cell_type": "code",
      "source": [
        "#Balancing the classes\n",
        "from imblearn.combine import SMOTEENN\n",
        "smt = SMOTEENN(sampling_strategy='all')\n",
        "X_smt, y_smt = smt.fit_resample(x1, y1)\n",
        "X_train, X_test, y_train, y_test = train_test_split(X_smt, y_smt, test_size=0.3, random_state=42)"
      ],
      "metadata": {
        "id": "EHFgGmU5r5mo"
      },
      "execution_count": null,
      "outputs": []
    },
    {
      "cell_type": "code",
      "source": [
        "#applying standard scallar to get the standardize the data \n",
        "std = StandardScaler()\n",
        "X_train = std.fit_transform(X_train)\n",
        "X_test = std.transform(X_test)"
      ],
      "metadata": {
        "id": "ASJ2hBf-sIMi"
      },
      "execution_count": null,
      "outputs": []
    },
    {
      "cell_type": "code",
      "source": [
        "from sklearn.svm import SVC\n",
        "# Fitting the SVM \n",
        "clf = SVC(kernel='linear')\n",
        "clf.fit(X_train, y_train)\n",
        "y_test_predict = clf.predict(X_test)\n",
        "\n",
        "print(classification_report(y_test,y_test_predict))\n",
        "\n",
        "# Based on the below Code I am removing less important features and will use only most important features\n",
        "mylist = clf.coef_.tolist()\n",
        "\n",
        "mylist = clf.coef_.tolist()\n",
        "pyplot.bar([x for x in range(len(mylist[0]))],  [mylist[0][i] for i in range(len(mylist[0]))])\n",
        "pyplot.show()\n",
        "for x in range(len(mylist[0])):\n",
        "  print(x, ' : ', mylist[0][x])\n",
        "\n"
      ],
      "metadata": {
        "colab": {
          "base_uri": "https://localhost:8080/",
          "height": 552
        },
        "id": "Kowzf0Zbrmmb",
        "outputId": "b3eef755-e573-450d-80ac-3304e1acfa54"
      },
      "execution_count": null,
      "outputs": [
        {
          "output_type": "stream",
          "name": "stdout",
          "text": [
            "              precision    recall  f1-score   support\n",
            "\n",
            "           0       1.00      1.00      1.00       101\n",
            "           1       1.00      1.00      1.00        83\n",
            "\n",
            "    accuracy                           1.00       184\n",
            "   macro avg       1.00      1.00      1.00       184\n",
            "weighted avg       1.00      1.00      1.00       184\n",
            "\n"
          ]
        },
        {
          "output_type": "display_data",
          "data": {
            "text/plain": [
              "<Figure size 432x288 with 1 Axes>"
            ],
            "image/png": "[encoded data removed]"
          },
          "metadata": {
            "needs_background": "light"
          }
        },
        {
          "output_type": "stream",
          "name": "stdout",
          "text": [
            "0  :  0.438168993821653\n",
            "1  :  0.3351662656819367\n",
            "2  :  0.6488778034581448\n",
            "3  :  2.5855154904145987\n",
            "4  :  2.3011402807692587\n",
            "5  :  0.41917205694498816\n",
            "6  :  0.15497181704286\n"
          ]
        }
      ]
    },
    {
      "cell_type": "markdown",
      "source": [
        "# Using xgbost to see if there is any diffenrence"
      ],
      "metadata": {
        "id": "PfE4BWj5Qggc"
      }
    },
    {
      "cell_type": "code",
      "source": [
        "import xgboost as xgb\n",
        "from sklearn.model_selection import cross_val_score\n",
        "import numpy as np\n",
        "for lr in [0.01,0.02,0.03,0.04,0.05,0.06,0.07,0.08,0.09,0.1,0.11,0.12,0.13,0.14,0.15,0.2,0.5,0.7,1]:\n",
        "  model = xgb.XGBRegressor(learning_rate = lr, n_estimators=100, verbosity = 0) # initialise the model\n",
        "  model.fit(X_train,y_train) #train the model\n",
        "  model.score(X_test, y_test) # scoring the model - r2 squared\n",
        "  print(\"Learning rate : \", lr, \" Train score : \", model.score(X_train,y_train), \" Cross-Val score : \", np.mean(cross_val_score(model, X_train, y_train, cv=10)))"
      ],
      "metadata": {
        "colab": {
          "base_uri": "https://localhost:8080/"
        },
        "id": "4RJ3U5slQfz8",
        "outputId": "517a2045-9547-4d6e-c93b-8ba3de454e4e"
      },
      "execution_count": null,
      "outputs": [
        {
          "output_type": "stream",
          "name": "stdout",
          "text": [
            "Learning rate :  0.01  Train score :  0.8596736892468396  Cross-Val score :  0.8327147749237819\n",
            "Learning rate :  0.02  Train score :  0.9791727653653561  Cross-Val score :  0.9462485532596565\n",
            "Learning rate :  0.03  Train score :  0.9957481074780183  Cross-Val score :  0.961900098771501\n",
            "Learning rate :  0.04  Train score :  0.9987662296248399  Cross-Val score :  0.9637838307423335\n",
            "Learning rate :  0.05  Train score :  0.999541256024669  Cross-Val score :  0.9650048191875319\n",
            "Learning rate :  0.06  Train score :  0.9997582950796702  Cross-Val score :  0.9639912400812467\n",
            "Learning rate :  0.07  Train score :  0.999871975514057  Cross-Val score :  0.9629300244749031\n",
            "Learning rate :  0.08  Train score :  0.9999141418394719  Cross-Val score :  0.9647208493223547\n",
            "Learning rate :  0.09  Train score :  0.9999302520525316  Cross-Val score :  0.9643495676738117\n",
            "Learning rate :  0.1  Train score :  0.9999585892678453  Cross-Val score :  0.9629184369967675\n",
            "Learning rate :  0.11  Train score :  0.9999783086153989  Cross-Val score :  0.963681834821395\n",
            "Learning rate :  0.12  Train score :  0.9999858395844632  Cross-Val score :  0.9636875125048043\n",
            "Learning rate :  0.13  Train score :  0.9999864184955642  Cross-Val score :  0.9641068460126622\n",
            "Learning rate :  0.14  Train score :  0.9999893670280198  Cross-Val score :  0.9637511727366306\n",
            "Learning rate :  0.15  Train score :  0.9999867337711859  Cross-Val score :  0.9636739061741307\n",
            "Learning rate :  0.2  Train score :  0.9999960422730311  Cross-Val score :  0.9624162064182291\n",
            "Learning rate :  0.5  Train score :  0.9999970863564517  Cross-Val score :  0.9632687993032432\n",
            "Learning rate :  0.7  Train score :  0.9999987405977571  Cross-Val score :  0.9580917867030074\n",
            "Learning rate :  1  Train score :  0.999999219354724  Cross-Val score :  0.9542207374450078\n"
          ]
        }
      ]
    },
    {
      "cell_type": "code",
      "source": [
        "model = xgb.XGBRegressor(learning_rate = 0.04, n_estimators=100)\n",
        "model.fit(X_train,y_train) #train the model\n",
        "model.score(X_test, y_test)"
      ],
      "metadata": {
        "colab": {
          "base_uri": "https://localhost:8080/"
        },
        "id": "QWGEstr_aXfS",
        "outputId": "2d6567a2-d192-4ada-bbd5-546c967f2f92"
      },
      "execution_count": null,
      "outputs": [
        {
          "output_type": "stream",
          "name": "stdout",
          "text": [
            "[15:31:54] WARNING: /workspace/src/objective/regression_obj.cu:152: reg:linear is now deprecated in favor of reg:squarederror.\n"
          ]
        },
        {
          "output_type": "execute_result",
          "data": {
            "text/plain": [
              "0.8891333754216643"
            ]
          },
          "metadata": {},
          "execution_count": 78
        }
      ]
    },
    {
      "cell_type": "code",
      "source": [
        "from sklearn.ensemble import VotingRegressor # this is the function that ensembles my model\n",
        "from sklearn import tree\n",
        "from sklearn.neighbors import KNeighborsRegressor\n",
        "from sklearn.svm import SVR\n",
        "\n",
        "model1 = SVR(C=1.0, epsilon=0.2)\n",
        "model2 = tree.DecisionTreeRegressor(random_state=1)\n",
        "model3 = KNeighborsRegressor(3)\n",
        "model = VotingRegressor(estimators=[('lr', model1), ('dt', model2),('knn',model3)]) # it will stitich all the models together, voting = hard means max voting \n",
        "# we need to give the list of models that we are trying to combine\n",
        "model.fit(X_train,y_train)\n",
        "model.score(X_test,y_test)"
      ],
      "metadata": {
        "colab": {
          "base_uri": "https://localhost:8080/"
        },
        "id": "s5y3EeZGahDZ",
        "outputId": "ef564360-4c24-4dc9-b2f0-17c4192032d9"
      },
      "execution_count": null,
      "outputs": [
        {
          "output_type": "execute_result",
          "data": {
            "text/plain": [
              "0.9533012346493941"
            ]
          },
          "metadata": {},
          "execution_count": 79
        }
      ]
    },
    {
      "cell_type": "markdown",
      "source": [
        "# EDA"
      ],
      "metadata": {
        "id": "h2wOH6EDAU3Z"
      }
    },
    {
      "cell_type": "code",
      "source": [
        "df = pd.read_csv(\"/content/drive/My Drive/Colab Notebooks/Guvi Tasks/cancer.csv\")\n",
        "df.head(2)"
      ],
      "metadata": {
        "id": "ydTyEeMJD5DZ"
      },
      "execution_count": null,
      "outputs": []
    },
    {
      "cell_type": "code",
      "source": [
        "xe=df[[  'concave points_mean',  'area_se',  'texture_worst', 'perimeter_worst', 'area_worst', 'smoothness_worst', 'compactness_worst']].head(100)\n",
        "ye=df[\"diagnosis\"].head(500)\n",
        "xe[\"diagnosis\"]=df[\"diagnosis\"].head(100)\n",
        "xe[\"diagnosis\"] = xe[\"diagnosis\"].map({\"M\" : 1, \"B\" : 0})\n"
      ],
      "metadata": {
        "id": "7p6tdrUoAWhn"
      },
      "execution_count": 21,
      "outputs": []
    },
    {
      "cell_type": "code",
      "source": [
        "xe.corr()"
      ],
      "metadata": {
        "colab": {
          "base_uri": "https://localhost:8080/",
          "height": 379
        },
        "id": "v-xjJnhiCsj7",
        "outputId": "c605340f-61b7-4490-8880-cefa8296c873"
      },
      "execution_count": 28,
      "outputs": [
        {
          "output_type": "execute_result",
          "data": {
            "text/plain": [
              "                     concave points_mean   area_se  texture_worst  \\\n",
              "concave points_mean             1.000000  0.737816       0.305306   \n",
              "area_se                         0.737816  1.000000       0.126217   \n",
              "texture_worst                   0.305306  0.126217       1.000000   \n",
              "perimeter_worst                 0.814237  0.845167       0.378725   \n",
              "area_worst                      0.740768  0.849048       0.334856   \n",
              "smoothness_worst                0.431555  0.046970       0.321346   \n",
              "compactness_worst               0.637957  0.270486       0.424733   \n",
              "diagnosis                       0.714925  0.555920       0.515407   \n",
              "\n",
              "                     perimeter_worst  area_worst  smoothness_worst  \\\n",
              "concave points_mean         0.814237    0.740768          0.431555   \n",
              "area_se                     0.845167    0.849048          0.046970   \n",
              "texture_worst               0.378725    0.334856          0.321346   \n",
              "perimeter_worst             1.000000    0.975255          0.189493   \n",
              "area_worst                  0.975255    1.000000          0.153067   \n",
              "smoothness_worst            0.189493    0.153067          1.000000   \n",
              "compactness_worst           0.451433    0.345973          0.621739   \n",
              "diagnosis                   0.723523    0.653432          0.408408   \n",
              "\n",
              "                     compactness_worst  diagnosis  \n",
              "concave points_mean           0.637957   0.714925  \n",
              "area_se                       0.270486   0.555920  \n",
              "texture_worst                 0.424733   0.515407  \n",
              "perimeter_worst               0.451433   0.723523  \n",
              "area_worst                    0.345973   0.653432  \n",
              "smoothness_worst              0.621739   0.408408  \n",
              "compactness_worst             1.000000   0.576255  \n",
              "diagnosis                     0.576255   1.000000  "
            ],
            "text/html": [
              "\n",
              "  <div id=\"df-9dfe3c30-c39a-4965-930f-3372e9d8c555\">\n",
              "    <div class=\"colab-df-container\">\n",
              "      <div>\n",
              "<style scoped>\n",
              "    .dataframe tbody tr th:only-of-type {\n",
              "        vertical-align: middle;\n",
              "    }\n",
              "\n",
              "    .dataframe tbody tr th {\n",
              "        vertical-align: top;\n",
              "    }\n",
              "\n",
              "    .dataframe thead th {\n",
              "        text-align: right;\n",
              "    }\n",
              "</style>\n",
              "<table border=\"1\" class=\"dataframe\">\n",
              "  <thead>\n",
              "    <tr style=\"text-align: right;\">\n",
              "      <th></th>\n",
              "      <th>concave points_mean</th>\n",
              "      <th>area_se</th>\n",
              "      <th>texture_worst</th>\n",
              "      <th>perimeter_worst</th>\n",
              "      <th>area_worst</th>\n",
              "      <th>smoothness_worst</th>\n",
              "      <th>compactness_worst</th>\n",
              "      <th>diagnosis</th>\n",
              "    </tr>\n",
              "  </thead>\n",
              "  <tbody>\n",
              "    <tr>\n",
              "      <th>concave points_mean</th>\n",
              "      <td>1.000000</td>\n",
              "      <td>0.737816</td>\n",
              "      <td>0.305306</td>\n",
              "      <td>0.814237</td>\n",
              "      <td>0.740768</td>\n",
              "      <td>0.431555</td>\n",
              "      <td>0.637957</td>\n",
              "      <td>0.714925</td>\n",
              "    </tr>\n",
              "    <tr>\n",
              "      <th>area_se</th>\n",
              "      <td>0.737816</td>\n",
              "      <td>1.000000</td>\n",
              "      <td>0.126217</td>\n",
              "      <td>0.845167</td>\n",
              "      <td>0.849048</td>\n",
              "      <td>0.046970</td>\n",
              "      <td>0.270486</td>\n",
              "      <td>0.555920</td>\n",
              "    </tr>\n",
              "    <tr>\n",
              "      <th>texture_worst</th>\n",
              "      <td>0.305306</td>\n",
              "      <td>0.126217</td>\n",
              "      <td>1.000000</td>\n",
              "      <td>0.378725</td>\n",
              "      <td>0.334856</td>\n",
              "      <td>0.321346</td>\n",
              "      <td>0.424733</td>\n",
              "      <td>0.515407</td>\n",
              "    </tr>\n",
              "    <tr>\n",
              "      <th>perimeter_worst</th>\n",
              "      <td>0.814237</td>\n",
              "      <td>0.845167</td>\n",
              "      <td>0.378725</td>\n",
              "      <td>1.000000</td>\n",
              "      <td>0.975255</td>\n",
              "      <td>0.189493</td>\n",
              "      <td>0.451433</td>\n",
              "      <td>0.723523</td>\n",
              "    </tr>\n",
              "    <tr>\n",
              "      <th>area_worst</th>\n",
              "      <td>0.740768</td>\n",
              "      <td>0.849048</td>\n",
              "      <td>0.334856</td>\n",
              "      <td>0.975255</td>\n",
              "      <td>1.000000</td>\n",
              "      <td>0.153067</td>\n",
              "      <td>0.345973</td>\n",
              "      <td>0.653432</td>\n",
              "    </tr>\n",
              "    <tr>\n",
              "      <th>smoothness_worst</th>\n",
              "      <td>0.431555</td>\n",
              "      <td>0.046970</td>\n",
              "      <td>0.321346</td>\n",
              "      <td>0.189493</td>\n",
              "      <td>0.153067</td>\n",
              "      <td>1.000000</td>\n",
              "      <td>0.621739</td>\n",
              "      <td>0.408408</td>\n",
              "    </tr>\n",
              "    <tr>\n",
              "      <th>compactness_worst</th>\n",
              "      <td>0.637957</td>\n",
              "      <td>0.270486</td>\n",
              "      <td>0.424733</td>\n",
              "      <td>0.451433</td>\n",
              "      <td>0.345973</td>\n",
              "      <td>0.621739</td>\n",
              "      <td>1.000000</td>\n",
              "      <td>0.576255</td>\n",
              "    </tr>\n",
              "    <tr>\n",
              "      <th>diagnosis</th>\n",
              "      <td>0.714925</td>\n",
              "      <td>0.555920</td>\n",
              "      <td>0.515407</td>\n",
              "      <td>0.723523</td>\n",
              "      <td>0.653432</td>\n",
              "      <td>0.408408</td>\n",
              "      <td>0.576255</td>\n",
              "      <td>1.000000</td>\n",
              "    </tr>\n",
              "  </tbody>\n",
              "</table>\n",
              "</div>\n",
              "      <button class=\"colab-df-convert\" onclick=\"convertToInteractive('df-9dfe3c30-c39a-4965-930f-3372e9d8c555')\"\n",
              "              title=\"Convert this dataframe to an interactive table.\"\n",
              "              style=\"display:none;\">\n",
              "        \n",
              "  <svg xmlns=\"http://www.w3.org/2000/svg\" height=\"24px\"viewBox=\"0 0 24 24\"\n",
              "       width=\"24px\">\n",
              "    <path d=\"M0 0h24v24H0V0z\" fill=\"none\"/>\n",
              "    <path d=\"M18.56 5.44l.94 2.06.94-2.06 2.06-.94-2.06-.94-.94-2.06-.94 2.06-2.06.94zm-11 1L8.5 8.5l.94-2.06 2.06-.94-2.06-.94L8.5 2.5l-.94 2.06-2.06.94zm10 10l.94 2.06.94-2.06 2.06-.94-2.06-.94-.94-2.06-.94 2.06-2.06.94z\"/><path d=\"M17.41 7.96l-1.37-1.37c-.4-.4-.92-.59-1.43-.59-.52 0-1.04.2-1.43.59L10.3 9.45l-7.72 7.72c-.78.78-.78 2.05 0 2.83L4 21.41c.39.39.9.59 1.41.59.51 0 1.02-.2 1.41-.59l7.78-7.78 2.81-2.81c.8-.78.8-2.07 0-2.86zM5.41 20L4 18.59l7.72-7.72 1.47 1.35L5.41 20z\"/>\n",
              "  </svg>\n",
              "      </button>\n",
              "      \n",
              "  <style>\n",
              "    .colab-df-container {\n",
              "      display:flex;\n",
              "      flex-wrap:wrap;\n",
              "      gap: 12px;\n",
              "    }\n",
              "\n",
              "    .colab-df-convert {\n",
              "      background-color: #E8F0FE;\n",
              "      border: none;\n",
              "      border-radius: 50%;\n",
              "      cursor: pointer;\n",
              "      display: none;\n",
              "      fill: #1967D2;\n",
              "      height: 32px;\n",
              "      padding: 0 0 0 0;\n",
              "      width: 32px;\n",
              "    }\n",
              "\n",
              "    .colab-df-convert:hover {\n",
              "      background-color: #E2EBFA;\n",
              "      box-shadow: 0px 1px 2px rgba(60, 64, 67, 0.3), 0px 1px 3px 1px rgba(60, 64, 67, 0.15);\n",
              "      fill: #174EA6;\n",
              "    }\n",
              "\n",
              "    [theme=dark] .colab-df-convert {\n",
              "      background-color: #3B4455;\n",
              "      fill: #D2E3FC;\n",
              "    }\n",
              "\n",
              "    [theme=dark] .colab-df-convert:hover {\n",
              "      background-color: #434B5C;\n",
              "      box-shadow: 0px 1px 3px 1px rgba(0, 0, 0, 0.15);\n",
              "      filter: drop-shadow(0px 1px 2px rgba(0, 0, 0, 0.3));\n",
              "      fill: #FFFFFF;\n",
              "    }\n",
              "  </style>\n",
              "\n",
              "      <script>\n",
              "        const buttonEl =\n",
              "          document.querySelector('#df-9dfe3c30-c39a-4965-930f-3372e9d8c555 button.colab-df-convert');\n",
              "        buttonEl.style.display =\n",
              "          google.colab.kernel.accessAllowed ? 'block' : 'none';\n",
              "\n",
              "        async function convertToInteractive(key) {\n",
              "          const element = document.querySelector('#df-9dfe3c30-c39a-4965-930f-3372e9d8c555');\n",
              "          const dataTable =\n",
              "            await google.colab.kernel.invokeFunction('convertToInteractive',\n",
              "                                                     [key], {});\n",
              "          if (!dataTable) return;\n",
              "\n",
              "          const docLinkHtml = 'Like what you see? Visit the ' +\n",
              "            '<a target=\"_blank\" href=https://colab.research.google.com/notebooks/data_table.ipynb>data table notebook</a>'\n",
              "            + ' to learn more about interactive tables.';\n",
              "          element.innerHTML = '';\n",
              "          dataTable['output_type'] = 'display_data';\n",
              "          await google.colab.output.renderOutput(dataTable, element);\n",
              "          const docLink = document.createElement('div');\n",
              "          docLink.innerHTML = docLinkHtml;\n",
              "          element.appendChild(docLink);\n",
              "        }\n",
              "      </script>\n",
              "    </div>\n",
              "  </div>\n",
              "  "
            ]
          },
          "metadata": {},
          "execution_count": 28
        }
      ]
    },
    {
      "cell_type": "code",
      "source": [
        "sns.relplot(data=xe, x=\"concave points_mean\", y=\"area_worst\",hue='diagnosis',style='diagnosis' ) "
      ],
      "metadata": {
        "colab": {
          "base_uri": "https://localhost:8080/",
          "height": 388
        },
        "id": "qbHC0jhBBALF",
        "outputId": "c60fef6a-1600-4743-8dc8-dc62d48570fa"
      },
      "execution_count": 35,
      "outputs": [
        {
          "output_type": "execute_result",
          "data": {
            "text/plain": [
              "<seaborn.axisgrid.FacetGrid at 0x7f34da869c40>"
            ]
          },
          "metadata": {},
          "execution_count": 35
        },
        {
          "output_type": "display_data",
          "data": {
            "text/plain": [
              "<Figure size 415.5x360 with 1 Axes>"
            ],
            "image/png": "[encoded data removed]"
          },
          "metadata": {
            "needs_background": "light"
          }
        }
      ]
    },
    {
      "cell_type": "code",
      "source": [
        "sns.relplot(data=xe, x=\"concave points_mean\", y=\"perimeter_worst\",hue='diagnosis',style='diagnosis' ) "
      ],
      "metadata": {
        "colab": {
          "base_uri": "https://localhost:8080/",
          "height": 388
        },
        "id": "JfO16MXiL2ul",
        "outputId": "5bb281bc-ba55-49ab-e622-efe1b440af0e"
      },
      "execution_count": 36,
      "outputs": [
        {
          "output_type": "execute_result",
          "data": {
            "text/plain": [
              "<seaborn.axisgrid.FacetGrid at 0x7f34da889a90>"
            ]
          },
          "metadata": {},
          "execution_count": 36
        },
        {
          "output_type": "display_data",
          "data": {
            "text/plain": [
              "<Figure size 415.5x360 with 1 Axes>"
            ],
            "image/png": "[encoded data removed]"
          },
          "metadata": {
            "needs_background": "light"
          }
        }
      ]
    },
    {
      "cell_type": "code",
      "source": [
        "sns.relplot(data=xe, x=\"concave points_mean\", y=\"compactness_worst\",hue='diagnosis',style='diagnosis' ) "
      ],
      "metadata": {
        "colab": {
          "base_uri": "https://localhost:8080/",
          "height": 388
        },
        "id": "DmcV2PDyMEbq",
        "outputId": "fdedbc65-104f-45a1-9b67-b25706552cac"
      },
      "execution_count": 37,
      "outputs": [
        {
          "output_type": "execute_result",
          "data": {
            "text/plain": [
              "<seaborn.axisgrid.FacetGrid at 0x7f34da75b940>"
            ]
          },
          "metadata": {},
          "execution_count": 37
        },
        {
          "output_type": "display_data",
          "data": {
            "text/plain": [
              "<Figure size 415.5x360 with 1 Axes>"
            ],
            "image/png": "[encoded data removed]"
          },
          "metadata": {
            "needs_background": "light"
          }
        }
      ]
    },
    {
      "cell_type": "code",
      "source": [
        "def dfboxplot(df, listvar):\n",
        " fig, axes = plt.subplots(nrows=1, ncols=len(listvar), figsize=(40, 3))\n",
        " counter=0\n",
        " for ax in axes:\n",
        "  df.boxplot(column=listvar[counter], ax=axes[counter])\n",
        "  plt.ylabel('Yes or No')\n",
        "  plt.xlabel(listvar[counter])\n",
        "  counter = counter+1\n",
        " plt.show()\n",
        "\n",
        "linear_vars = xe.select_dtypes(include=[np.number]).columns\n",
        "dfboxplot(xe,linear_vars)"
      ],
      "metadata": {
        "colab": {
          "base_uri": "https://localhost:8080/",
          "height": 248
        },
        "id": "mpPxkWhaMbSM",
        "outputId": "00bcb0ec-2443-4d52-ab1f-619ad8800e6e"
      },
      "execution_count": 41,
      "outputs": [
        {
          "output_type": "display_data",
          "data": {
            "text/plain": [
              "<Figure size 2880x216 with 8 Axes>"
            ],
            "image/png": "[encoded data removed]"
          },
          "metadata": {
            "needs_background": "light"
          }
        }
      ]
    },
    {
      "cell_type": "code",
      "source": [
        "#sns.heatmap(xe.isnull(),yticklabels=False,cbar=False,cmap='viridis')"
      ],
      "metadata": {
        "id": "FJ3iIcaOE15O"
      },
      "execution_count": null,
      "outputs": []
    }
  ]
}